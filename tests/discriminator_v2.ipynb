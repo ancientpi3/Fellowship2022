{
  "nbformat": 4,
  "nbformat_minor": 0,
  "metadata": {
    "colab": {
      "provenance": [],
      "authorship_tag": "ABX9TyNcq+OaGfQI9EQEPlYPpoyM",
      "include_colab_link": true
    },
    "kernelspec": {
      "name": "python3",
      "display_name": "Python 3"
    },
    "language_info": {
      "name": "python"
    }
  },
  "cells": [
    {
      "cell_type": "markdown",
      "metadata": {
        "id": "view-in-github",
        "colab_type": "text"
      },
      "source": [
        "<a href=\"https://colab.research.google.com/github/ancientpi3/Fellowship2022/blob/main/discriminator_v2.ipynb\" target=\"_parent\"><img src=\"https://colab.research.google.com/assets/colab-badge.svg\" alt=\"Open In Colab\"/></a>"
      ]
    },
    {
      "cell_type": "code",
      "execution_count": 20,
      "metadata": {
        "id": "VGcTk82kl1_7"
      },
      "outputs": [],
      "source": [
        "import numpy as np\n",
        "from numpy import expand_dims\n",
        "from numpy import zeros\n",
        "from numpy import ones\n",
        "from numpy import vstack\n",
        "from numpy.random import randn\n",
        "from numpy.random import randint\n",
        "from keras.datasets.mnist import load_data\n",
        "from keras.optimizers import Adam\n",
        "from keras.models import Sequential\n",
        "from keras.layers import Dense\n",
        "from keras.layers import Reshape\n",
        "from keras.layers import Flatten\n",
        "from keras.layers import Conv2D\n",
        "from keras.layers import Conv2DTranspose\n",
        "from keras.layers import LeakyReLU\n",
        "from keras.layers import Dropout\n",
        "from matplotlib import pyplot\n",
        "from google.colab.patches import cv2_imshow\n",
        "import cv2"
      ]
    },
    {
      "cell_type": "code",
      "source": [
        "#probabilistic generator parameters\n",
        "mean = .0\n",
        "scale = .2\n",
        "\n",
        "#model meta parameters\n",
        "lr = .0005"
      ],
      "metadata": {
        "id": "2tq4lyMNpddW"
      },
      "execution_count": 166,
      "outputs": []
    },
    {
      "cell_type": "code",
      "source": [
        "def generated_image(mean, stddev, minval, maxval):\n",
        "  return np.clip(np.random.normal(loc=mean, scale=stddev,size=(28,28)), minval, maxval)"
      ],
      "metadata": {
        "id": "5IdeLrObpMnV"
      },
      "execution_count": 44,
      "outputs": []
    },
    {
      "cell_type": "code",
      "source": [
        "def zoom(img, zoom_factor=1.5):\n",
        "    return cv2.resize(img, None, fx=zoom_factor, fy=zoom_factor,interpolation=0)"
      ],
      "metadata": {
        "id": "IFLklWMModC0"
      },
      "execution_count": 178,
      "outputs": []
    },
    {
      "cell_type": "code",
      "source": [
        "test = generated_image(mean,scale,0,1)\n",
        "cv2_imshow(zoom(test*255,8))"
      ],
      "metadata": {
        "colab": {
          "base_uri": "https://localhost:8080/",
          "height": 241
        },
        "id": "giFdtK1IkgtT",
        "outputId": "6937f1ff-61ba-48aa-f8d8-59792424babb"
      },
      "execution_count": 179,
      "outputs": [
        {
          "output_type": "display_data",
          "data": {
            "text/plain": [
              "<PIL.Image.Image image mode=L size=224x224 at 0x7F1884498550>"
            ],
            "image/png": "[encoded data removed]"
          },
          "metadata": {}
        }
      ]
    },
    {
      "cell_type": "code",
      "source": [
        "test2 = np.random.rand(28,28)\n",
        "cv2_imshow(zoom(test2*255,8))"
      ],
      "metadata": {
        "colab": {
          "base_uri": "https://localhost:8080/",
          "height": 241
        },
        "id": "s4MZvKOolFYz",
        "outputId": "849b67cd-3ed8-4112-dbfc-b041e55a9738"
      },
      "execution_count": 180,
      "outputs": [
        {
          "output_type": "display_data",
          "data": {
            "text/plain": [
              "<PIL.Image.Image image mode=L size=224x224 at 0x7F1884485CD0>"
            ],
            "image/png": "[encoded data removed]"
          },
          "metadata": {}
        }
      ]
    },
    {
      "cell_type": "code",
      "source": [
        "# define the standalone discriminator model\n",
        "def define_discriminator(in_shape=(28,28,1)):\n",
        "  model = Sequential()\n",
        "  model.add(Conv2D(64, (3,3), strides=(2, 2), padding='same', input_shape=in_shape, activation='relu'))\n",
        "  model.add(Flatten())\n",
        "  model.add(Dense(1, activation='sigmoid'))\n",
        "\n",
        "  opt = Adam(learning_rate=lr, beta_1=0.5)\n",
        "  model.compile(loss='binary_crossentropy', optimizer=opt, metrics=['accuracy'])\n",
        "  return model"
      ],
      "metadata": {
        "id": "PgBZk39RzEWo"
      },
      "execution_count": 181,
      "outputs": []
    },
    {
      "cell_type": "code",
      "source": [
        "def generate_data(mean=0, scale=.2, data_size = 100):\n",
        "  data = []\n",
        "  labels = []\n",
        "  for _ in range(data_size):\n",
        "    data.append(generated_image(mean,scale,0,1))\n",
        "    labels.append(0)\n",
        "    data.append(np.random.rand(28,28))\n",
        "    labels.append(1)\n",
        "  return (np.array(labels),np.array(data))"
      ],
      "metadata": {
        "id": "n2cfsk9gtDjj"
      },
      "execution_count": 182,
      "outputs": []
    },
    {
      "cell_type": "code",
      "source": [
        "def plot_history(history):\n",
        "  pyplot.plot(history.history['accuracy'])\n",
        "  pyplot.plot(history.history['val_accuracy'])\n",
        "  pyplot.title('model accuracy')\n",
        "  pyplot.ylabel('accuracy')\n",
        "  pyplot.xlabel('epoch')\n",
        "  pyplot.legend(['train'], loc='upper left')\n",
        "  pyplot.show()"
      ],
      "metadata": {
        "id": "CTrFiXBkwCdv"
      },
      "execution_count": 183,
      "outputs": []
    },
    {
      "cell_type": "code",
      "source": [
        "labels,data = generate_data()\n",
        "valid_labels, valid_data = generate_data(mean=.2,scale=.3,data_size=50)"
      ],
      "metadata": {
        "id": "dogTV9hdtvV2"
      },
      "execution_count": 184,
      "outputs": []
    },
    {
      "cell_type": "code",
      "source": [
        "model = define_discriminator()\n",
        "model.build(input_shape = (28,28,1))\n",
        "model.summary()"
      ],
      "metadata": {
        "colab": {
          "base_uri": "https://localhost:8080/"
        },
        "id": "TpsuRpQ9sYq9",
        "outputId": "4002601f-3f99-485a-dc47-7f7d3e33daf0"
      },
      "execution_count": 185,
      "outputs": [
        {
          "output_type": "stream",
          "name": "stdout",
          "text": [
            "Model: \"sequential_28\"\n",
            "_________________________________________________________________\n",
            " Layer (type)                Output Shape              Param #   \n",
            "=================================================================\n",
            " conv2d_28 (Conv2D)          (None, 14, 14, 64)        640       \n",
            "                                                                 \n",
            " flatten_28 (Flatten)        (None, 12544)             0         \n",
            "                                                                 \n",
            " dense_28 (Dense)            (None, 1)                 12545     \n",
            "                                                                 \n",
            "=================================================================\n",
            "Total params: 13,185\n",
            "Trainable params: 13,185\n",
            "Non-trainable params: 0\n",
            "_________________________________________________________________\n"
          ]
        }
      ]
    },
    {
      "cell_type": "code",
      "source": [
        "model = define_discriminator()\n",
        "model.build(input_shape = (28,28,1))\n",
        "history = model.fit(x = data, y = labels, epochs=10, validation_data=(valid_data,valid_labels))"
      ],
      "metadata": {
        "colab": {
          "base_uri": "https://localhost:8080/"
        },
        "id": "QMMXXJR8vVQY",
        "outputId": "534dc02f-6b2f-4764-9d3d-f9d05ae027ba"
      },
      "execution_count": 186,
      "outputs": [
        {
          "output_type": "stream",
          "name": "stdout",
          "text": [
            "Epoch 1/10\n",
            "7/7 [==============================] - 1s 33ms/step - loss: 0.6106 - accuracy: 0.5200 - val_loss: 0.6479 - val_accuracy: 0.5000\n",
            "Epoch 2/10\n",
            "7/7 [==============================] - 0s 11ms/step - loss: 0.4973 - accuracy: 0.5000 - val_loss: 0.6375 - val_accuracy: 0.5000\n",
            "Epoch 3/10\n",
            "7/7 [==============================] - 0s 13ms/step - loss: 0.4062 - accuracy: 0.7900 - val_loss: 0.5600 - val_accuracy: 0.5000\n",
            "Epoch 4/10\n",
            "7/7 [==============================] - 0s 11ms/step - loss: 0.2816 - accuracy: 1.0000 - val_loss: 0.4308 - val_accuracy: 0.5100\n",
            "Epoch 5/10\n",
            "7/7 [==============================] - 0s 13ms/step - loss: 0.1600 - accuracy: 1.0000 - val_loss: 0.3788 - val_accuracy: 0.6700\n",
            "Epoch 6/10\n",
            "7/7 [==============================] - 0s 12ms/step - loss: 0.0858 - accuracy: 1.0000 - val_loss: 0.3324 - val_accuracy: 0.9100\n",
            "Epoch 7/10\n",
            "7/7 [==============================] - 0s 13ms/step - loss: 0.0491 - accuracy: 1.0000 - val_loss: 0.2803 - val_accuracy: 1.0000\n",
            "Epoch 8/10\n",
            "7/7 [==============================] - 0s 13ms/step - loss: 0.0312 - accuracy: 1.0000 - val_loss: 0.3000 - val_accuracy: 0.9500\n",
            "Epoch 9/10\n",
            "7/7 [==============================] - 0s 13ms/step - loss: 0.0219 - accuracy: 1.0000 - val_loss: 0.2487 - val_accuracy: 1.0000\n",
            "Epoch 10/10\n",
            "7/7 [==============================] - 0s 12ms/step - loss: 0.0158 - accuracy: 1.0000 - val_loss: 0.2374 - val_accuracy: 1.0000\n"
          ]
        }
      ]
    },
    {
      "cell_type": "code",
      "source": [
        "plot_history(history)"
      ],
      "metadata": {
        "colab": {
          "base_uri": "https://localhost:8080/",
          "height": 295
        },
        "id": "gBuDmTkGwgFb",
        "outputId": "71665ae9-91cc-4a86-814b-3c8ebed0475f"
      },
      "execution_count": 187,
      "outputs": [
        {
          "output_type": "display_data",
          "data": {
            "text/plain": [
              "<Figure size 432x288 with 1 Axes>"
            ],
            "image/png": "[encoded data removed]"
          },
          "metadata": {
            "needs_background": "light"
          }
        }
      ]
    },
    {
      "cell_type": "code",
      "source": [],
      "metadata": {
        "id": "cxIeR0LBzBNU"
      },
      "execution_count": null,
      "outputs": []
    }
  ]
}
