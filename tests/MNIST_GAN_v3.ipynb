{
  "nbformat": 4,
  "nbformat_minor": 0,
  "metadata": {
    "colab": {
      "provenance": [],
      "authorship_tag": "ABX9TyN0IYkfjrZj50f/r4L82wZH",
      "include_colab_link": true
    },
    "kernelspec": {
      "name": "python3",
      "display_name": "Python 3"
    },
    "language_info": {
      "name": "python"
    },
    "accelerator": "GPU",
    "gpuClass": "standard"
  },
  "cells": [
    {
      "cell_type": "markdown",
      "metadata": {
        "id": "view-in-github",
        "colab_type": "text"
      },
      "source": [
        "<a href=\"https://colab.research.google.com/github/ancientpi3/Fellowship2022/blob/main/MNIST_GAN_v3.ipynb\" target=\"_parent\"><img src=\"https://colab.research.google.com/assets/colab-badge.svg\" alt=\"Open In Colab\"/></a>"
      ]
    },
    {
      "cell_type": "code",
      "execution_count": null,
      "metadata": {
        "colab": {
          "base_uri": "https://localhost:8080/",
          "height": 300
        },
        "id": "V3Xoy32KKEG-",
        "outputId": "bcc20995-007a-4dc6-85cd-5c0e69ecadaf"
      },
      "outputs": [
        {
          "output_type": "stream",
          "name": "stdout",
          "text": [
            "Downloading data from https://storage.googleapis.com/tensorflow/tf-keras-datasets/mnist.npz\n",
            "11490434/11490434 [==============================] - 0s 0us/step\n"
          ]
        },
        {
          "output_type": "display_data",
          "data": {
            "text/plain": [
              "<Figure size 432x288 with 1 Axes>"
            ],
            "image/png": "[encoded data removed]"
          },
          "metadata": {
            "needs_background": "light"
          }
        }
      ],
      "source": [
        "import tensorflow as tf\n",
        "from tensorflow import keras\n",
        "import matplotlib.pyplot as plt\n",
        "import cv2\n",
        "import numpy as np\n",
        "\n",
        "(x_train, y_train), (x_test, y_test) = tf.keras.datasets.mnist.load_data()\n",
        "plt.imshow(x_train[0], cmap=\"gray\")\n",
        "x_train = x_train/255.0\n",
        "x_test = x_test/255.0"
      ]
    },
    {
      "cell_type": "code",
      "source": [
        "def discriminator():\n",
        "  discriminator_input = keras.Input(shape=(28,28,1),name=\"d_input\")\n",
        "  x = keras.layers.Conv2D(64,(3,3),strides = (2,2),padding = \"same\", activation=\"relu\")(discriminator_input)\n",
        "  x = keras.layers.Flatten()(x)\n",
        "  discriminator_output = keras.layers.Dense(1, activation='sigmoid')(x)\n",
        "  model = keras.Model(discriminator_input, discriminator_output,name=\"discriminator\")\n",
        "  opt = keras.optimizers.Adam(lr=0.0002, beta_1=0.5)\n",
        "  model.compile(loss='binary_crossentropy', optimizer=opt, metrics=['accuracy'])\n",
        "  return model"
      ],
      "metadata": {
        "id": "M71N5ZleKiiH"
      },
      "execution_count": null,
      "outputs": []
    },
    {
      "cell_type": "code",
      "source": [
        "d_model = discriminator()\n",
        "d_model.summary()"
      ],
      "metadata": {
        "colab": {
          "base_uri": "https://localhost:8080/"
        },
        "id": "XZTZBnNeMQJ1",
        "outputId": "85a21ac7-d51f-4192-d466-6cf473154d4c"
      },
      "execution_count": null,
      "outputs": [
        {
          "output_type": "stream",
          "name": "stdout",
          "text": [
            "Model: \"discriminator\"\n",
            "_________________________________________________________________\n",
            " Layer (type)                Output Shape              Param #   \n",
            "=================================================================\n",
            " d_input (InputLayer)        [(None, 28, 28, 1)]       0         \n",
            "                                                                 \n",
            " conv2d (Conv2D)             (None, 14, 14, 64)        640       \n",
            "                                                                 \n",
            " flatten (Flatten)           (None, 12544)             0         \n",
            "                                                                 \n",
            " dense (Dense)               (None, 1)                 12545     \n",
            "                                                                 \n",
            "=================================================================\n",
            "Total params: 13,185\n",
            "Trainable params: 13,185\n",
            "Non-trainable params: 0\n",
            "_________________________________________________________________\n"
          ]
        },
        {
          "output_type": "stream",
          "name": "stderr",
          "text": [
            "/usr/local/lib/python3.8/dist-packages/keras/optimizers/optimizer_v2/adam.py:110: UserWarning: The `lr` argument is deprecated, use `learning_rate` instead.\n",
            "  super(Adam, self).__init__(name, **kwargs)\n"
          ]
        }
      ]
    },
    {
      "cell_type": "code",
      "source": [
        "def generator(latent_dim=100):\n",
        "  generator_input = keras.Input(shape=(latent_dim),name=\"g_input\")\n",
        "  n_nodes = 7*7*128\n",
        "  x = keras.layers.Dense(n_nodes)(generator_input)\n",
        "  x = keras.layers.Reshape((7,7,128))(x)\n",
        "  x = keras.layers.Conv2DTranspose(128,(3,3),strides=(2,2),padding='same',activation=\"relu\")(x)\n",
        "  x = keras.layers.Conv2DTranspose(128,(3,3),strides=(2,2),padding='same',activation=\"relu\")(x)\n",
        "  generator_output = keras.layers.Conv2D(1,(7,7),padding=\"same\",activation=\"sigmoid\")(x)\n",
        "  return keras.Model(generator_input, generator_output,name=\"generator\")\n"
      ],
      "metadata": {
        "id": "avFXh5zKMyKY"
      },
      "execution_count": null,
      "outputs": []
    },
    {
      "cell_type": "code",
      "source": [
        "g_model = generator()\n",
        "g_model.summary()"
      ],
      "metadata": {
        "colab": {
          "base_uri": "https://localhost:8080/"
        },
        "id": "SEmhyEpGSQ81",
        "outputId": "e82821d7-98d2-44e2-f7ee-5437559ad704"
      },
      "execution_count": null,
      "outputs": [
        {
          "output_type": "stream",
          "name": "stdout",
          "text": [
            "Model: \"generator\"\n",
            "_________________________________________________________________\n",
            " Layer (type)                Output Shape              Param #   \n",
            "=================================================================\n",
            " g_input (InputLayer)        [(None, 100)]             0         \n",
            "                                                                 \n",
            " dense_1 (Dense)             (None, 6272)              633472    \n",
            "                                                                 \n",
            " reshape (Reshape)           (None, 7, 7, 128)         0         \n",
            "                                                                 \n",
            " conv2d_transpose (Conv2DTra  (None, 14, 14, 128)      147584    \n",
            " nspose)                                                         \n",
            "                                                                 \n",
            " conv2d_transpose_1 (Conv2DT  (None, 28, 28, 128)      147584    \n",
            " ranspose)                                                       \n",
            "                                                                 \n",
            " conv2d_1 (Conv2D)           (None, 28, 28, 1)         6273      \n",
            "                                                                 \n",
            "=================================================================\n",
            "Total params: 934,913\n",
            "Trainable params: 934,913\n",
            "Non-trainable params: 0\n",
            "_________________________________________________________________\n"
          ]
        }
      ]
    },
    {
      "cell_type": "code",
      "source": [
        "def GAN(d_model,g_model):\n",
        "\td_model.trainable = False\n",
        "\tmodel = keras.models.Sequential()\n",
        "\tmodel.add(g_model)\n",
        "\tmodel.add(d_model)\n",
        "\topt = keras.optimizers.Adam(lr=0.0002, beta_1=0.5)\n",
        "\tmodel.compile(loss='binary_crossentropy', optimizer=opt)\n",
        "\treturn model\n"
      ],
      "metadata": {
        "id": "5AETEy5rS_Ex"
      },
      "execution_count": null,
      "outputs": []
    },
    {
      "cell_type": "code",
      "source": [
        "gan_model = GAN(d_model,g_model)\n",
        "gan_model.summary()\n"
      ],
      "metadata": {
        "colab": {
          "base_uri": "https://localhost:8080/"
        },
        "id": "PXf9kHWvT4gr",
        "outputId": "920bf497-d2a1-4010-850d-12e8ad095f8c"
      },
      "execution_count": null,
      "outputs": [
        {
          "output_type": "stream",
          "name": "stdout",
          "text": [
            "Model: \"sequential\"\n",
            "_________________________________________________________________\n",
            " Layer (type)                Output Shape              Param #   \n",
            "=================================================================\n",
            " generator (Functional)      (None, 28, 28, 1)         934913    \n",
            "                                                                 \n",
            " discriminator (Functional)  (None, 1)                 13185     \n",
            "                                                                 \n",
            "=================================================================\n",
            "Total params: 948,098\n",
            "Trainable params: 934,913\n",
            "Non-trainable params: 13,185\n",
            "_________________________________________________________________\n"
          ]
        }
      ]
    },
    {
      "cell_type": "code",
      "source": [
        "def grab_real_batch(x_train, batch_size):\n",
        "\tix = np.random.randint(0, x_train.shape[0], batch_size)\n",
        "\tX = x_train[ix]\n",
        "\t#y = np.ones((batch_size, 1))\n",
        "\treturn X"
      ],
      "metadata": {
        "id": "lhrdmmlZXhy6"
      },
      "execution_count": null,
      "outputs": []
    },
    {
      "cell_type": "code",
      "source": [
        "k = grab_real_batch(x_train,10)\n",
        "plt.imshow(k[0].reshape(28,28), cmap=\"gray\")"
      ],
      "metadata": {
        "colab": {
          "base_uri": "https://localhost:8080/",
          "height": 282
        },
        "id": "0L1bYOFJaKZ4",
        "outputId": "70774282-0e37-4606-c1aa-0326908ba9f9"
      },
      "execution_count": null,
      "outputs": [
        {
          "output_type": "execute_result",
          "data": {
            "text/plain": [
              "<matplotlib.image.AxesImage at 0x7f00d044e220>"
            ]
          },
          "metadata": {},
          "execution_count": 9
        },
        {
          "output_type": "display_data",
          "data": {
            "text/plain": [
              "<Figure size 432x288 with 1 Axes>"
            ],
            "image/png": "[encoded data removed]"
          },
          "metadata": {
            "needs_background": "light"
          }
        }
      ]
    },
    {
      "cell_type": "code",
      "source": [
        "def grab_fake_batch(g_model,batch_size, latent_dim=100):\n",
        "  latent_points = np.random.randn(100*batch_size).reshape(batch_size,latent_dim)\n",
        "  predictions = g_model.predict(latent_points,verbose=0)\n",
        "  return predictions"
      ],
      "metadata": {
        "id": "8J0E-hJIWfsl"
      },
      "execution_count": null,
      "outputs": []
    },
    {
      "cell_type": "code",
      "source": [
        "k = grab_fake_batch(g_model,10)"
      ],
      "metadata": {
        "id": "1WacDy1lZToP"
      },
      "execution_count": null,
      "outputs": []
    },
    {
      "cell_type": "code",
      "source": [
        "plt.imshow(k[0].reshape(28,28), cmap=\"gray\")"
      ],
      "metadata": {
        "colab": {
          "base_uri": "https://localhost:8080/",
          "height": 282
        },
        "id": "1S0qorE5Zo4m",
        "outputId": "0cf02156-a1d2-4f55-c022-7dd2587d1f1b"
      },
      "execution_count": null,
      "outputs": [
        {
          "output_type": "execute_result",
          "data": {
            "text/plain": [
              "<matplotlib.image.AxesImage at 0x7f00e0d4a1f0>"
            ]
          },
          "metadata": {},
          "execution_count": 12
        },
        {
          "output_type": "display_data",
          "data": {
            "text/plain": [
              "<Figure size 432x288 with 1 Axes>"
            ],
            "image/png": "[encoded data removed]"
          },
          "metadata": {
            "needs_background": "light"
          }
        }
      ]
    },
    {
      "cell_type": "code",
      "source": [
        "def train(d_model,g_model,gan_model, x_train, epochs=200, verbose=1):\n",
        "  latent_dim = 100\n",
        "  batch_size = 256\n",
        "  batches_per_epoch = 50\n",
        "  for epoch in range(epochs):\n",
        "    print(\"Epoch: \",epoch)\n",
        "    for _ in range(batches_per_epoch):\n",
        "      d_model.trainable = True\n",
        "      print(\"training discriminator on real batch\")\n",
        "      real_batch = grab_real_batch(x_train, batch_size)\n",
        "      d_model.fit(x=real_batch, y = np.ones(batch_size),verbose=verbose)\n",
        "      #print(\"training discriminator on fake batch\")\n",
        "      fake_batch = grab_fake_batch(g_model, batch_size)\n",
        "      d_model.fit(x=fake_batch, y = np.zeros(batch_size),verbose=verbose)\n",
        "\n",
        "      d_model.trainable = False\n",
        "      #print(\"training GAN on fake batch with real label to measure how well G fools D\")\n",
        "      latent_points = np.random.randn(100*batch_size).reshape(batch_size,latent_dim)\n",
        "      gan_model.fit(x=latent_points, y=np.ones(batch_size),verbose=verbose)\n",
        "\n"
      ],
      "metadata": {
        "id": "PA9jqq23UQCB"
      },
      "execution_count": null,
      "outputs": []
    },
    {
      "cell_type": "code",
      "source": [
        "train(d_model,g_model,gan_model,x_train,verbose=0)"
      ],
      "metadata": {
        "id": "ZWPtOYd7bf2c"
      },
      "execution_count": null,
      "outputs": []
    },
    {
      "cell_type": "code",
      "source": [
        "results = grab_fake_batch(g_model,5)\n",
        "plt.imshow(results[3].reshape(28,28), cmap=\"gray\")"
      ],
      "metadata": {
        "id": "cDJLioDud7Bp"
      },
      "execution_count": null,
      "outputs": []
    },
    {
      "cell_type": "code",
      "source": [
        "g_model.save(\"mnist_g_model.h5\")"
      ],
      "metadata": {
        "id": "ZJjsEZf8mXtH"
      },
      "execution_count": null,
      "outputs": []
    },
    {
      "cell_type": "code",
      "source": [
        "g_model.load_weights('/content/mnist_g_model.h5')"
      ],
      "metadata": {
        "id": "jVcGAmN2r_hJ"
      },
      "execution_count": null,
      "outputs": []
    },
    {
      "cell_type": "code",
      "source": [
        "results = grab_fake_batch(g_model,5)\n",
        "plt.imshow(results[3].reshape(28,28), cmap=\"gray\")"
      ],
      "metadata": {
        "colab": {
          "base_uri": "https://localhost:8080/",
          "height": 282
        },
        "id": "xSisHChnstbg",
        "outputId": "19e5213d-f9c6-4eb7-87eb-534e0fec0cf9"
      },
      "execution_count": null,
      "outputs": [
        {
          "output_type": "execute_result",
          "data": {
            "text/plain": [
              "<matplotlib.image.AxesImage at 0x7f32d08a5ee0>"
            ]
          },
          "metadata": {},
          "execution_count": 29
        },
        {
          "output_type": "display_data",
          "data": {
            "text/plain": [
              "<Figure size 432x288 with 1 Axes>"
            ],
            "image/png": "[encoded data removed]"
          },
          "metadata": {
            "needs_background": "light"
          }
        }
      ]
    }
  ]
}
