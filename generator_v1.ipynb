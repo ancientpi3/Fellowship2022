{
  "cells": [
    {
      "cell_type": "code",
      "execution_count": 40,
      "id": "ce0a1290",
      "metadata": {
        "id": "ce0a1290"
      },
      "outputs": [],
      "source": [
        "import numpy as np\n",
        "from numpy import expand_dims\n",
        "from numpy import zeros\n",
        "from numpy import ones\n",
        "from numpy import vstack\n",
        "from numpy.random import randn\n",
        "from numpy.random import randint\n",
        "from keras.datasets.mnist import load_data\n",
        "from keras.optimizers import Adam\n",
        "from keras.models import Sequential\n",
        "from keras.layers import Dense\n",
        "from keras.layers import Reshape\n",
        "from keras.layers import Flatten\n",
        "from keras.layers import Conv2D\n",
        "from keras.layers import Conv2DTranspose\n",
        "from keras.layers import LeakyReLU\n",
        "from keras.layers import Dropout\n",
        "from matplotlib import pyplot\n",
        "from google.colab.patches import cv2_imshow\n",
        "import cv2"
      ]
    },
    {
      "cell_type": "code",
      "source": [
        "#probabilistic generator parameters\n",
        "mean = .0\n",
        "scale = .2\n",
        "\n",
        "#model meta parameters\n",
        "lr = .0005"
      ],
      "metadata": {
        "id": "XXBE2HDgnKTh"
      },
      "id": "XXBE2HDgnKTh",
      "execution_count": 13,
      "outputs": []
    },
    {
      "cell_type": "code",
      "source": [
        "def show(image):\n",
        "  cv2_imshow(zoom(image*255,8))"
      ],
      "metadata": {
        "id": "h8ZJlaNWnRLk"
      },
      "id": "h8ZJlaNWnRLk",
      "execution_count": 16,
      "outputs": []
    },
    {
      "cell_type": "code",
      "source": [
        "def zoom(img, zoom_factor=1.5):\n",
        "    return cv2.resize(img, None, fx=zoom_factor, fy=zoom_factor,interpolation=0)"
      ],
      "metadata": {
        "id": "j7HmYd7dnHWS"
      },
      "id": "j7HmYd7dnHWS",
      "execution_count": 14,
      "outputs": []
    },
    {
      "cell_type": "code",
      "source": [
        "def generated_image(mean, stddev, minval, maxval):\n",
        "  return np.clip(np.random.normal(loc=mean, scale=stddev,size=(28,28)), minval, maxval)"
      ],
      "metadata": {
        "id": "WzVqX8TTnHsE"
      },
      "id": "WzVqX8TTnHsE",
      "execution_count": 15,
      "outputs": []
    },
    {
      "cell_type": "code",
      "source": [
        "# define the standalone discriminator model\n",
        "def define_discriminator(in_shape=(28,28,1)):\n",
        "  model = Sequential()\n",
        "  model.add(Conv2D(64, (3,3), strides=(2, 2), padding='same', input_shape=in_shape, activation='relu'))\n",
        "  model.add(Flatten())\n",
        "  model.add(Dense(1, activation='sigmoid'))\n",
        "\n",
        "  opt = Adam(learning_rate=lr, beta_1=0.5)\n",
        "  model.compile(loss='binary_crossentropy', optimizer=opt, metrics=['accuracy'])\n",
        "  return model"
      ],
      "metadata": {
        "id": "3G_uTClylYUO"
      },
      "id": "3G_uTClylYUO",
      "execution_count": 2,
      "outputs": []
    },
    {
      "cell_type": "code",
      "source": [
        "def define_generator(latent_dim):\n",
        "\tmodel = Sequential()\n",
        "\t# foundation for 7x7 image\n",
        "\tn_nodes = 128 * 7 * 7\n",
        "\tmodel.add(Dense(n_nodes, input_dim=latent_dim))\n",
        "\tmodel.add(LeakyReLU(alpha=0.2))\n",
        "\tmodel.add(Reshape((7, 7, 128)))\n",
        " \n",
        "\t# upsample to 28x28\n",
        "\tmodel.add(Conv2DTranspose(128, (2,2), strides=(4,4), padding='same'))\n",
        "\tmodel.add(LeakyReLU(alpha=0.2))\n",
        "\tmodel.add(Conv2D(1, (7,7), activation='sigmoid', padding='same'))\n",
        "\treturn model"
      ],
      "metadata": {
        "id": "OLDgNiz6lYtL"
      },
      "id": "OLDgNiz6lYtL",
      "execution_count": 34,
      "outputs": []
    },
    {
      "cell_type": "code",
      "source": [
        "def generate_data(mean=0, scale=.2, data_size = 100):\n",
        "  data = []\n",
        "  labels = []\n",
        "  for _ in range(data_size):\n",
        "    data.append(generated_image(mean,scale,0,1))\n",
        "    labels.append(0)\n",
        "    data.append(np.random.rand(28,28))\n",
        "    labels.append(1)\n",
        "  return (np.array(labels),np.array(data))"
      ],
      "metadata": {
        "id": "SIWPKPL2uHAJ"
      },
      "id": "SIWPKPL2uHAJ",
      "execution_count": 42,
      "outputs": []
    },
    {
      "cell_type": "code",
      "source": [
        "g_model = define_generator(100)\n",
        "g_model.summary()"
      ],
      "metadata": {
        "colab": {
          "base_uri": "https://localhost:8080/"
        },
        "id": "ReFfqhODlc-o",
        "outputId": "5d090380-fdc2-4956-f2e7-f9d7a4159de3"
      },
      "id": "ReFfqhODlc-o",
      "execution_count": 35,
      "outputs": [
        {
          "output_type": "stream",
          "name": "stdout",
          "text": [
            "Model: \"sequential_9\"\n",
            "_________________________________________________________________\n",
            " Layer (type)                Output Shape              Param #   \n",
            "=================================================================\n",
            " dense_9 (Dense)             (None, 6272)              633472    \n",
            "                                                                 \n",
            " leaky_re_lu_23 (LeakyReLU)  (None, 6272)              0         \n",
            "                                                                 \n",
            " reshape_9 (Reshape)         (None, 7, 7, 128)         0         \n",
            "                                                                 \n",
            " conv2d_transpose_14 (Conv2D  (None, 28, 28, 128)      65664     \n",
            " Transpose)                                                      \n",
            "                                                                 \n",
            " leaky_re_lu_24 (LeakyReLU)  (None, 28, 28, 128)       0         \n",
            "                                                                 \n",
            " conv2d_9 (Conv2D)           (None, 28, 28, 1)         6273      \n",
            "                                                                 \n",
            "=================================================================\n",
            "Total params: 705,409\n",
            "Trainable params: 705,409\n",
            "Non-trainable params: 0\n",
            "_________________________________________________________________\n"
          ]
        }
      ]
    },
    {
      "cell_type": "code",
      "source": [
        "x = np.array([np.random.rand(100)])\n",
        "out = g_model.predict(x).reshape(28,28)\n",
        "show(out)"
      ],
      "metadata": {
        "colab": {
          "base_uri": "https://localhost:8080/",
          "height": 258
        },
        "id": "MzuMt_ael1qA",
        "outputId": "ef08071e-4e51-4dfc-dd62-ce0b95f85fc5"
      },
      "id": "MzuMt_ael1qA",
      "execution_count": 36,
      "outputs": [
        {
          "output_type": "stream",
          "name": "stdout",
          "text": [
            "1/1 [==============================] - 0s 86ms/step\n"
          ]
        },
        {
          "output_type": "display_data",
          "data": {
            "text/plain": [
              "<PIL.Image.Image image mode=L size=224x224 at 0x7F69AB7E4D10>"
            ],
            "image/png": "[encoded data removed]"
          },
          "metadata": {}
        }
      ]
    },
    {
      "cell_type": "code",
      "source": [
        "d_model = define_discriminator()\n",
        "d_model.predict(out.reshape(1,28,28,1))"
      ],
      "metadata": {
        "colab": {
          "base_uri": "https://localhost:8080/"
        },
        "id": "2teZtFWwpk9O",
        "outputId": "fe4f67d5-4139-4dc8-8f5e-b5e3b91417b3"
      },
      "id": "2teZtFWwpk9O",
      "execution_count": 46,
      "outputs": [
        {
          "output_type": "stream",
          "name": "stdout",
          "text": [
            "1/1 [==============================] - 0s 53ms/step\n"
          ]
        },
        {
          "output_type": "execute_result",
          "data": {
            "text/plain": [
              "array([[0.50043684]], dtype=float32)"
            ]
          },
          "metadata": {},
          "execution_count": 46
        }
      ]
    },
    {
      "cell_type": "code",
      "source": [
        "labels,data = generate_data()\n",
        "valid_labels, valid_data = generate_data(mean=.2,scale=.3,data_size=50)\n",
        "\n",
        "d_model.build(input_shape = (28,28,1))\n",
        "history = d_model.fit(x = data, y = labels, epochs=10, validation_data=(valid_data,valid_labels))"
      ],
      "metadata": {
        "id": "2npn4BLLrnAM",
        "outputId": "d2d410bd-f786-4b46-9f00-3e7faa386e7f",
        "colab": {
          "base_uri": "https://localhost:8080/"
        }
      },
      "id": "2npn4BLLrnAM",
      "execution_count": 47,
      "outputs": [
        {
          "output_type": "stream",
          "name": "stdout",
          "text": [
            "Epoch 1/10\n",
            "7/7 [==============================] - 1s 36ms/step - loss: 0.5910 - accuracy: 0.5400 - val_loss: 0.6740 - val_accuracy: 0.5000\n",
            "Epoch 2/10\n",
            "7/7 [==============================] - 0s 14ms/step - loss: 0.4825 - accuracy: 0.5000 - val_loss: 0.6809 - val_accuracy: 0.5000\n",
            "Epoch 3/10\n",
            "7/7 [==============================] - 0s 13ms/step - loss: 0.3944 - accuracy: 0.7500 - val_loss: 0.5512 - val_accuracy: 0.5000\n",
            "Epoch 4/10\n",
            "7/7 [==============================] - 0s 14ms/step - loss: 0.2680 - accuracy: 1.0000 - val_loss: 0.4769 - val_accuracy: 0.5000\n",
            "Epoch 5/10\n",
            "7/7 [==============================] - 0s 17ms/step - loss: 0.1535 - accuracy: 1.0000 - val_loss: 0.3995 - val_accuracy: 0.5400\n",
            "Epoch 6/10\n",
            "7/7 [==============================] - 0s 12ms/step - loss: 0.0847 - accuracy: 1.0000 - val_loss: 0.3052 - val_accuracy: 0.9800\n",
            "Epoch 7/10\n",
            "7/7 [==============================] - 0s 13ms/step - loss: 0.0515 - accuracy: 1.0000 - val_loss: 0.3111 - val_accuracy: 0.9500\n",
            "Epoch 8/10\n",
            "7/7 [==============================] - 0s 12ms/step - loss: 0.0336 - accuracy: 1.0000 - val_loss: 0.2967 - val_accuracy: 0.9500\n",
            "Epoch 9/10\n",
            "7/7 [==============================] - 0s 12ms/step - loss: 0.0237 - accuracy: 1.0000 - val_loss: 0.2716 - val_accuracy: 0.9800\n",
            "Epoch 10/10\n",
            "7/7 [==============================] - 0s 12ms/step - loss: 0.0176 - accuracy: 1.0000 - val_loss: 0.2605 - val_accuracy: 0.9900\n"
          ]
        }
      ]
    },
    {
      "cell_type": "code",
      "source": [
        "d_model.predict(out.reshape(1,28,28,1))"
      ],
      "metadata": {
        "id": "SDMxlfDbuWSr",
        "outputId": "cd2fafba-f482-4bca-9f8e-28b3fa66226d",
        "colab": {
          "base_uri": "https://localhost:8080/"
        }
      },
      "id": "SDMxlfDbuWSr",
      "execution_count": 48,
      "outputs": [
        {
          "output_type": "stream",
          "name": "stdout",
          "text": [
            "1/1 [==============================] - 0s 21ms/step\n"
          ]
        },
        {
          "output_type": "execute_result",
          "data": {
            "text/plain": [
              "array([[0.99880433]], dtype=float32)"
            ]
          },
          "metadata": {},
          "execution_count": 48
        }
      ]
    },
    {
      "cell_type": "code",
      "source": [
        "test = generated_image(mean,scale,0,1)\n",
        "show(test)"
      ],
      "metadata": {
        "id": "XinxrtQZu6jK",
        "outputId": "d0335d80-af47-49dd-b6f3-0efbe8d832e1",
        "colab": {
          "base_uri": "https://localhost:8080/",
          "height": 241
        }
      },
      "id": "XinxrtQZu6jK",
      "execution_count": 49,
      "outputs": [
        {
          "output_type": "display_data",
          "data": {
            "text/plain": [
              "<PIL.Image.Image image mode=L size=224x224 at 0x7F69AEC27490>"
            ],
            "image/png": "[encoded data removed]"
          },
          "metadata": {}
        }
      ]
    },
    {
      "cell_type": "code",
      "source": [
        "d_model.predict(test.reshape(1,28,28,1))"
      ],
      "metadata": {
        "id": "JZgheJHou9tX",
        "outputId": "b4cc9b15-7e2a-44c4-b6ef-de240419c6ff",
        "colab": {
          "base_uri": "https://localhost:8080/"
        }
      },
      "id": "JZgheJHou9tX",
      "execution_count": 50,
      "outputs": [
        {
          "output_type": "stream",
          "name": "stdout",
          "text": [
            "1/1 [==============================] - 0s 18ms/step\n"
          ]
        },
        {
          "output_type": "execute_result",
          "data": {
            "text/plain": [
              "array([[0.02130506]], dtype=float32)"
            ]
          },
          "metadata": {},
          "execution_count": 50
        }
      ]
    }
  ],
  "metadata": {
    "kernelspec": {
      "display_name": "Python 3 (ipykernel)",
      "language": "python",
      "name": "python3"
    },
    "language_info": {
      "codemirror_mode": {
        "name": "ipython",
        "version": 3
      },
      "file_extension": ".py",
      "mimetype": "text/x-python",
      "name": "python",
      "nbconvert_exporter": "python",
      "pygments_lexer": "ipython3",
      "version": "3.9.7"
    },
    "colab": {
      "provenance": []
    }
  },
  "nbformat": 4,
  "nbformat_minor": 5
}