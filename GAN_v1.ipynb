{
  "cells": [
    {
      "cell_type": "code",
      "execution_count": 1,
      "id": "3eb6f1c8",
      "metadata": {
        "id": "3eb6f1c8"
      },
      "outputs": [],
      "source": [
        "import numpy as np\n",
        "from numpy import expand_dims\n",
        "from numpy import zeros\n",
        "from numpy import ones\n",
        "from numpy import vstack\n",
        "from numpy.random import randn\n",
        "from numpy.random import randint\n",
        "from keras.datasets.mnist import load_data\n",
        "from keras.optimizers import Adam\n",
        "from keras.models import Sequential\n",
        "from keras.layers import Dense\n",
        "from keras.layers import Reshape\n",
        "from keras.layers import Flatten\n",
        "from keras.layers import Conv2D\n",
        "from keras.layers import Conv2DTranspose\n",
        "from keras.layers import LeakyReLU\n",
        "from keras.layers import Dropout\n",
        "from matplotlib import pyplot\n",
        "from google.colab.patches import cv2_imshow\n",
        "import cv2"
      ]
    },
    {
      "cell_type": "code",
      "source": [
        "!git clone https://github.com/ancientpi3/Fellowship2022.git\n",
        "from Fellowship2022.modules import basic_gan"
      ],
      "metadata": {
        "colab": {
          "base_uri": "https://localhost:8080/"
        },
        "id": "DXWAFoeBCDKp",
        "outputId": "b0b6a58c-5347-4102-ecee-ff88a3ecb9da"
      },
      "id": "DXWAFoeBCDKp",
      "execution_count": 2,
      "outputs": [
        {
          "output_type": "stream",
          "name": "stdout",
          "text": [
            "fatal: destination path 'Fellowship2022' already exists and is not an empty directory.\n"
          ]
        }
      ]
    },
    {
      "cell_type": "code",
      "source": [
        "def define_gan(g_model, d_model):\n",
        "\t# make weights in the discriminator not trainable\n",
        "\td_model.trainable = False\n",
        "\t# connect them\n",
        "\tmodel = Sequential()\n",
        "\t# add generator\n",
        "\tmodel.add(g_model)\n",
        "\t# add the discriminator\n",
        "\tmodel.add(d_model)\n",
        "\t# compile model\n",
        "\topt = Adam(lr=0.0002, beta_1=0.5)\n",
        "\tmodel.compile(loss='binary_crossentropy', optimizer=opt)\n",
        "\treturn model"
      ],
      "metadata": {
        "id": "YlztkjkrDia0"
      },
      "id": "YlztkjkrDia0",
      "execution_count": 3,
      "outputs": []
    },
    {
      "cell_type": "code",
      "source": [
        "def generate_latent_points(latent_dim, n_samples):\n",
        "\t# generate points in the latent space\n",
        "\tx_input = randn(latent_dim * n_samples)\n",
        "\t# reshape into a batch of inputs for the network\n",
        "\tx_input = x_input.reshape(n_samples, latent_dim)\n",
        "\treturn x_input"
      ],
      "metadata": {
        "id": "eXj8MflBP5_q"
      },
      "id": "eXj8MflBP5_q",
      "execution_count": 4,
      "outputs": []
    },
    {
      "cell_type": "code",
      "source": [
        "def generate_fake_samples(g_model, latent_dim, n_samples):\n",
        "\t# generate points in latent space\n",
        "\tx_input = generate_latent_points(latent_dim, n_samples)\n",
        "\t# predict outputs\n",
        "\tX = g_model.predict(x_input)\n",
        "\t# create 'fake' class labels (0)\n",
        "\ty = ones((n_samples, 1))\n",
        "\treturn X, y"
      ],
      "metadata": {
        "id": "zzZgFwiSQJu0"
      },
      "id": "zzZgFwiSQJu0",
      "execution_count": 5,
      "outputs": []
    },
    {
      "cell_type": "code",
      "source": [
        "def summarize_performance(epoch, g_model, d_model, latent_dim, n_samples=100):\n",
        "\t# prepare real samples\n",
        "  y_real, X_real = basic_gan.generate_real_data(data_size = n_samples)\n",
        "  X_real = X_real.reshape(n_samples, 28,28,1)\n",
        "  y_real = y_real.reshape(n_samples, 1)\n",
        "\t# evaluate discriminator on real examples\n",
        "  _, acc_real = d_model.evaluate(X_real, y_real, verbose=0)\n",
        "  # prepare fake examples\n",
        "  x_fake, y_fake = generate_fake_samples(g_model, latent_dim, n_samples)\n",
        "  # evaluate discriminator on fake examples\n",
        "  _, acc_fake = d_model.evaluate(x_fake, y_fake, verbose=0)\n",
        "  # summarize discriminator performance\n",
        "  print('>Accuracy real: %.0f%%, fake: %.0f%%' % (acc_real*100, acc_fake*100))\n",
        "  # save plot\n",
        "  #save_plot(x_fake, epoch)\n",
        "  # save the generator model tile file\n",
        "  #filename = 'generator_model_%03d.h5' % (epoch + 1)\n",
        "  #g_model.save(filename)"
      ],
      "metadata": {
        "id": "6TcyXVMbUebP"
      },
      "id": "6TcyXVMbUebP",
      "execution_count": 6,
      "outputs": []
    },
    {
      "cell_type": "code",
      "source": [
        "# train the generator and discriminator\n",
        "def train(g_model, d_model, gan_model, latent_dim, n_epochs=10, n_batch=100, real_data_size = 1000):\n",
        "  bat_per_epo = int(real_data_size / n_batch)\n",
        "  half_batch = int(n_batch / 2)\n",
        "  # manually enumerate epochs\n",
        "  for i in range(n_epochs):\n",
        "    # enumerate batches over the training set\n",
        "    for j in range(bat_per_epo):\n",
        "      # get randomly selected 'real' samples\n",
        "\n",
        "      y_real, X_real = basic_gan.generate_real_data(data_size = half_batch)\n",
        "      X_real = X_real.reshape(half_batch, 28,28,1)\n",
        "      y_real = y_real.reshape(half_batch, 1)\n",
        "\n",
        "      # generate 'fake' examples\n",
        "      X_fake, y_fake = generate_fake_samples(g_model, latent_dim, half_batch)\n",
        "      # create training set for the discriminator\n",
        "      X, y = vstack((X_real, X_fake)), vstack((y_real, y_fake))\n",
        "      # update discriminator model weights\n",
        "      d_loss, _ = d_model.train_on_batch(X, y)\n",
        "      # prepare points in latent space as input for the generator\n",
        "      X_gan = generate_latent_points(latent_dim, n_batch)\n",
        "      # create inverted labels for the fake samples\n",
        "      y_gan = zeros((n_batch, 1))\n",
        "      # update the generator via the discriminator's error\n",
        "      g_loss = gan_model.train_on_batch(X_gan, y_gan)\n",
        "      # summarize loss on this batch\n",
        "      print('>%d, %d/%d, d=%.3f, g=%.3f' % (i+1, j+1, bat_per_epo, d_loss, g_loss))\n",
        "    # evaluate the model performance, sometimes\n",
        "    if (i+1) % 1 == 0:\n",
        "      summarize_performance(i, g_model, d_model, latent_dim)\n"
      ],
      "metadata": {
        "id": "Fe4fQfyi-EIb"
      },
      "id": "Fe4fQfyi-EIb",
      "execution_count": 7,
      "outputs": []
    },
    {
      "cell_type": "code",
      "source": [
        "latent_dim = 2\n",
        "d_model = basic_gan.define_discriminator()\n",
        "g_model = basic_gan.define_generator(latent_dim)\n",
        "gan_model = define_gan(g_model,d_model)"
      ],
      "metadata": {
        "colab": {
          "base_uri": "https://localhost:8080/"
        },
        "id": "jS2EuYgBWDZy",
        "outputId": "ececc960-2db8-4781-d2d9-7430ff58068e"
      },
      "id": "jS2EuYgBWDZy",
      "execution_count": 8,
      "outputs": [
        {
          "output_type": "stream",
          "name": "stderr",
          "text": [
            "/usr/local/lib/python3.7/dist-packages/keras/optimizers/optimizer_v2/adam.py:110: UserWarning: The `lr` argument is deprecated, use `learning_rate` instead.\n",
            "  super(Adam, self).__init__(name, **kwargs)\n"
          ]
        }
      ]
    },
    {
      "cell_type": "code",
      "source": [
        "dataset = basic_gan.generate_real_data(data_size=100)"
      ],
      "metadata": {
        "id": "kUeISssEWDzD"
      },
      "id": "kUeISssEWDzD",
      "execution_count": 9,
      "outputs": []
    },
    {
      "cell_type": "code",
      "source": [
        "real_label,real_x = dataset"
      ],
      "metadata": {
        "id": "akqgH6nlWhNR"
      },
      "id": "akqgH6nlWhNR",
      "execution_count": 10,
      "outputs": []
    },
    {
      "cell_type": "code",
      "source": [
        "real_x = real_x.reshape(100,28,28,1)\n",
        "real_label = real_label.reshape(100,1)"
      ],
      "metadata": {
        "id": "dhObghvvWocI"
      },
      "id": "dhObghvvWocI",
      "execution_count": 11,
      "outputs": []
    },
    {
      "cell_type": "code",
      "source": [
        "fake_x, fake_label = generate_fake_samples(g_model,latent_dim=latent_dim, n_samples=100)"
      ],
      "metadata": {
        "colab": {
          "base_uri": "https://localhost:8080/"
        },
        "id": "F1BV2Upim45i",
        "outputId": "ae84865a-f951-4586-b661-96d3c8e5bf52"
      },
      "id": "F1BV2Upim45i",
      "execution_count": 12,
      "outputs": [
        {
          "output_type": "stream",
          "name": "stdout",
          "text": [
            "4/4 [==============================] - 4s 20ms/step\n"
          ]
        }
      ]
    },
    {
      "cell_type": "code",
      "source": [
        "print(real_x.shape)\n",
        "print(fake_x.shape)\n",
        "print(real_label.shape)\n",
        "print(fake_label.shape)"
      ],
      "metadata": {
        "colab": {
          "base_uri": "https://localhost:8080/"
        },
        "id": "BwFNez3onGUL",
        "outputId": "875e7f75-707f-4d57-809f-22a454ff6fec"
      },
      "id": "BwFNez3onGUL",
      "execution_count": 13,
      "outputs": [
        {
          "output_type": "stream",
          "name": "stdout",
          "text": [
            "(100, 28, 28, 1)\n",
            "(100, 28, 28, 1)\n",
            "(100, 1)\n",
            "(100, 1)\n"
          ]
        }
      ]
    },
    {
      "cell_type": "code",
      "source": [
        "#train discriminator, real (guassian) images are labeled 0, fake (white noise) images are labeled 1\n",
        "\n",
        "basic_gan.train_discriminator(d_model)"
      ],
      "metadata": {
        "id": "ZpInDmRp9wSI",
        "outputId": "6c2d9869-f1ba-487b-a2bf-977101a48ea6",
        "colab": {
          "base_uri": "https://localhost:8080/"
        }
      },
      "id": "ZpInDmRp9wSI",
      "execution_count": 14,
      "outputs": [
        {
          "output_type": "stream",
          "name": "stdout",
          "text": [
            "Epoch 1/10\n",
            "7/7 [==============================] - 1s 41ms/step - loss: 0.6373 - accuracy: 0.5100 - val_loss: 0.6576 - val_accuracy: 0.5000\n",
            "Epoch 2/10\n",
            "7/7 [==============================] - 0s 9ms/step - loss: 0.5210 - accuracy: 0.5000 - val_loss: 0.6653 - val_accuracy: 0.5000\n",
            "Epoch 3/10\n",
            "7/7 [==============================] - 0s 10ms/step - loss: 0.4266 - accuracy: 0.7300 - val_loss: 0.6086 - val_accuracy: 0.5000\n",
            "Epoch 4/10\n",
            "7/7 [==============================] - 0s 10ms/step - loss: 0.2958 - accuracy: 1.0000 - val_loss: 0.4812 - val_accuracy: 0.5000\n",
            "Epoch 5/10\n",
            "7/7 [==============================] - 0s 10ms/step - loss: 0.1672 - accuracy: 1.0000 - val_loss: 0.3776 - val_accuracy: 0.7700\n",
            "Epoch 6/10\n",
            "7/7 [==============================] - 0s 17ms/step - loss: 0.0876 - accuracy: 1.0000 - val_loss: 0.3157 - val_accuracy: 0.9900\n",
            "Epoch 7/10\n",
            "7/7 [==============================] - 0s 10ms/step - loss: 0.0502 - accuracy: 1.0000 - val_loss: 0.3200 - val_accuracy: 0.8900\n",
            "Epoch 8/10\n",
            "7/7 [==============================] - 0s 8ms/step - loss: 0.0316 - accuracy: 1.0000 - val_loss: 0.3037 - val_accuracy: 0.9400\n",
            "Epoch 9/10\n",
            "7/7 [==============================] - 0s 10ms/step - loss: 0.0220 - accuracy: 1.0000 - val_loss: 0.2739 - val_accuracy: 0.9900\n",
            "Epoch 10/10\n",
            "7/7 [==============================] - 0s 10ms/step - loss: 0.0160 - accuracy: 1.0000 - val_loss: 0.2609 - val_accuracy: 1.0000\n"
          ]
        },
        {
          "output_type": "execute_result",
          "data": {
            "text/plain": [
              "<keras.callbacks.History at 0x7f55a0024b50>"
            ]
          },
          "metadata": {},
          "execution_count": 14
        }
      ]
    },
    {
      "cell_type": "code",
      "source": [
        "train(g_model, d_model, gan_model,latent_dim)"
      ],
      "metadata": {
        "colab": {
          "base_uri": "https://localhost:8080/"
        },
        "id": "1uDExgtAsc98",
        "outputId": "081277c5-adad-4785-f636-8a3ba0b60591"
      },
      "id": "1uDExgtAsc98",
      "execution_count": 15,
      "outputs": [
        {
          "output_type": "stream",
          "name": "stdout",
          "text": [
            "2/2 [==============================] - 0s 62ms/step\n",
            ">1, 1/10, d=0.011, g=7.064\n",
            "2/2 [==============================] - 0s 7ms/step\n",
            ">1, 2/10, d=0.010, g=6.965\n",
            "2/2 [==============================] - 0s 8ms/step\n",
            ">1, 3/10, d=0.010, g=6.849\n",
            "2/2 [==============================] - 0s 5ms/step\n",
            ">1, 4/10, d=0.009, g=6.730\n",
            "2/2 [==============================] - 0s 6ms/step\n",
            ">1, 5/10, d=0.009, g=6.609\n",
            "2/2 [==============================] - 0s 8ms/step\n",
            ">1, 6/10, d=0.008, g=6.494\n",
            "2/2 [==============================] - 0s 5ms/step\n",
            ">1, 7/10, d=0.008, g=6.397\n",
            "2/2 [==============================] - 0s 8ms/step\n",
            ">1, 8/10, d=0.008, g=6.314\n",
            "2/2 [==============================] - 0s 7ms/step\n",
            ">1, 9/10, d=0.008, g=6.232\n",
            "2/2 [==============================] - 0s 6ms/step\n",
            ">1, 10/10, d=0.007, g=6.163\n",
            "4/4 [==============================] - 0s 3ms/step\n",
            ">Accuracy real: 100%, fake: 100%\n",
            "2/2 [==============================] - 0s 7ms/step\n",
            ">2, 1/10, d=0.007, g=6.113\n",
            "2/2 [==============================] - 0s 9ms/step\n",
            ">2, 2/10, d=0.007, g=6.057\n",
            "2/2 [==============================] - 0s 7ms/step\n",
            ">2, 3/10, d=0.007, g=6.033\n",
            "2/2 [==============================] - 0s 6ms/step\n",
            ">2, 4/10, d=0.007, g=5.998\n",
            "2/2 [==============================] - 0s 6ms/step\n",
            ">2, 5/10, d=0.007, g=5.945\n",
            "2/2 [==============================] - 0s 7ms/step\n",
            ">2, 6/10, d=0.007, g=5.946\n",
            "2/2 [==============================] - 0s 6ms/step\n",
            ">2, 7/10, d=0.007, g=5.901\n",
            "2/2 [==============================] - 0s 7ms/step\n",
            ">2, 8/10, d=0.007, g=5.873\n",
            "2/2 [==============================] - 0s 8ms/step\n",
            ">2, 9/10, d=0.007, g=5.872\n",
            "2/2 [==============================] - 0s 7ms/step\n",
            ">2, 10/10, d=0.007, g=5.795\n",
            "4/4 [==============================] - 0s 4ms/step\n",
            ">Accuracy real: 100%, fake: 100%\n",
            "2/2 [==============================] - 0s 6ms/step\n",
            ">3, 1/10, d=0.007, g=5.741\n",
            "2/2 [==============================] - 0s 6ms/step\n",
            ">3, 2/10, d=0.007, g=5.705\n",
            "2/2 [==============================] - 0s 6ms/step\n",
            ">3, 3/10, d=0.007, g=5.602\n",
            "2/2 [==============================] - 0s 7ms/step\n",
            ">3, 4/10, d=0.007, g=5.561\n",
            "2/2 [==============================] - 0s 7ms/step\n",
            ">3, 5/10, d=0.007, g=5.503\n",
            "2/2 [==============================] - 0s 6ms/step\n",
            ">3, 6/10, d=0.008, g=5.423\n",
            "2/2 [==============================] - 0s 6ms/step\n",
            ">3, 7/10, d=0.008, g=5.385\n",
            "2/2 [==============================] - 0s 9ms/step\n",
            ">3, 8/10, d=0.009, g=5.346\n",
            "2/2 [==============================] - 0s 7ms/step\n",
            ">3, 9/10, d=0.009, g=5.263\n",
            "2/2 [==============================] - 0s 7ms/step\n",
            ">3, 10/10, d=0.010, g=5.126\n",
            "4/4 [==============================] - 0s 4ms/step\n",
            ">Accuracy real: 100%, fake: 100%\n",
            "2/2 [==============================] - 0s 6ms/step\n",
            ">4, 1/10, d=0.010, g=5.090\n",
            "2/2 [==============================] - 0s 4ms/step\n",
            ">4, 2/10, d=0.011, g=4.929\n",
            "2/2 [==============================] - 0s 6ms/step\n",
            ">4, 3/10, d=0.013, g=4.893\n",
            "2/2 [==============================] - 0s 6ms/step\n",
            ">4, 4/10, d=0.014, g=4.720\n",
            "2/2 [==============================] - 0s 6ms/step\n",
            ">4, 5/10, d=0.017, g=4.613\n",
            "2/2 [==============================] - 0s 10ms/step\n",
            ">4, 6/10, d=0.017, g=4.598\n",
            "2/2 [==============================] - 0s 4ms/step\n",
            ">4, 7/10, d=0.023, g=4.612\n",
            "2/2 [==============================] - 0s 7ms/step\n",
            ">4, 8/10, d=0.027, g=4.270\n",
            "2/2 [==============================] - 0s 6ms/step\n",
            ">4, 9/10, d=0.023, g=4.346\n",
            "2/2 [==============================] - 0s 6ms/step\n",
            ">4, 10/10, d=0.033, g=4.266\n",
            "4/4 [==============================] - 0s 4ms/step\n",
            ">Accuracy real: 100%, fake: 100%\n",
            "2/2 [==============================] - 0s 6ms/step\n",
            ">5, 1/10, d=0.042, g=4.030\n",
            "2/2 [==============================] - 0s 7ms/step\n",
            ">5, 2/10, d=0.050, g=3.937\n",
            "2/2 [==============================] - 0s 7ms/step\n",
            ">5, 3/10, d=0.058, g=3.754\n",
            "2/2 [==============================] - 0s 6ms/step\n",
            ">5, 4/10, d=0.071, g=3.782\n",
            "2/2 [==============================] - 0s 6ms/step\n",
            ">5, 5/10, d=0.105, g=4.079\n",
            "2/2 [==============================] - 0s 6ms/step\n",
            ">5, 6/10, d=0.093, g=3.531\n",
            "2/2 [==============================] - 0s 6ms/step\n",
            ">5, 7/10, d=0.105, g=3.321\n",
            "2/2 [==============================] - 0s 7ms/step\n",
            ">5, 8/10, d=0.156, g=3.005\n",
            "2/2 [==============================] - 0s 6ms/step\n",
            ">5, 9/10, d=0.250, g=2.884\n",
            "2/2 [==============================] - 0s 5ms/step\n",
            ">5, 10/10, d=0.207, g=2.946\n",
            "4/4 [==============================] - 0s 3ms/step\n",
            ">Accuracy real: 100%, fake: 93%\n",
            "2/2 [==============================] - 0s 7ms/step\n",
            ">6, 1/10, d=0.265, g=2.465\n",
            "2/2 [==============================] - 0s 5ms/step\n",
            ">6, 2/10, d=0.293, g=1.972\n",
            "2/2 [==============================] - 0s 9ms/step\n",
            ">6, 3/10, d=0.357, g=1.616\n",
            "2/2 [==============================] - 0s 6ms/step\n",
            ">6, 4/10, d=0.490, g=1.796\n",
            "2/2 [==============================] - 0s 6ms/step\n",
            ">6, 5/10, d=0.479, g=1.766\n",
            "2/2 [==============================] - 0s 12ms/step\n",
            ">6, 6/10, d=0.509, g=1.284\n",
            "2/2 [==============================] - 0s 6ms/step\n",
            ">6, 7/10, d=0.588, g=1.059\n",
            "2/2 [==============================] - 0s 6ms/step\n",
            ">6, 8/10, d=0.642, g=1.104\n",
            "2/2 [==============================] - 0s 5ms/step\n",
            ">6, 9/10, d=0.670, g=1.281\n",
            "2/2 [==============================] - 0s 4ms/step\n",
            ">6, 10/10, d=0.716, g=1.213\n",
            "4/4 [==============================] - 0s 4ms/step\n",
            ">Accuracy real: 54%, fake: 56%\n",
            "2/2 [==============================] - 0s 7ms/step\n",
            ">7, 1/10, d=0.731, g=1.156\n",
            "2/2 [==============================] - 0s 7ms/step\n",
            ">7, 2/10, d=0.717, g=1.007\n",
            "2/2 [==============================] - 0s 7ms/step\n",
            ">7, 3/10, d=0.713, g=0.814\n",
            "2/2 [==============================] - 0s 6ms/step\n",
            ">7, 4/10, d=0.713, g=0.875\n",
            "2/2 [==============================] - 0s 6ms/step\n",
            ">7, 5/10, d=0.677, g=0.821\n",
            "2/2 [==============================] - 0s 10ms/step\n",
            ">7, 6/10, d=0.812, g=0.906\n",
            "2/2 [==============================] - 0s 7ms/step\n",
            ">7, 7/10, d=0.694, g=0.879\n",
            "2/2 [==============================] - 0s 6ms/step\n",
            ">7, 8/10, d=0.685, g=0.943\n",
            "2/2 [==============================] - 0s 5ms/step\n",
            ">7, 9/10, d=0.670, g=0.862\n",
            "2/2 [==============================] - 0s 6ms/step\n",
            ">7, 10/10, d=0.645, g=0.951\n",
            "4/4 [==============================] - 0s 4ms/step\n",
            ">Accuracy real: 93%, fake: 77%\n",
            "2/2 [==============================] - 0s 8ms/step\n",
            ">8, 1/10, d=0.578, g=0.924\n",
            "2/2 [==============================] - 0s 8ms/step\n",
            ">8, 2/10, d=0.582, g=0.929\n",
            "2/2 [==============================] - 0s 7ms/step\n",
            ">8, 3/10, d=0.567, g=0.942\n",
            "2/2 [==============================] - 0s 7ms/step\n",
            ">8, 4/10, d=0.498, g=0.971\n",
            "2/2 [==============================] - 0s 6ms/step\n",
            ">8, 5/10, d=0.533, g=0.934\n",
            "2/2 [==============================] - 0s 7ms/step\n",
            ">8, 6/10, d=0.485, g=1.030\n",
            "2/2 [==============================] - 0s 8ms/step\n",
            ">8, 7/10, d=0.497, g=0.989\n",
            "2/2 [==============================] - 0s 6ms/step\n",
            ">8, 8/10, d=0.450, g=1.052\n",
            "2/2 [==============================] - 0s 6ms/step\n",
            ">8, 9/10, d=0.426, g=1.023\n",
            "2/2 [==============================] - 0s 6ms/step\n",
            ">8, 10/10, d=0.396, g=1.050\n",
            "4/4 [==============================] - 0s 5ms/step\n",
            ">Accuracy real: 100%, fake: 90%\n",
            "2/2 [==============================] - 0s 6ms/step\n",
            ">9, 1/10, d=0.390, g=1.053\n",
            "2/2 [==============================] - 0s 6ms/step\n",
            ">9, 2/10, d=0.396, g=1.058\n",
            "2/2 [==============================] - 0s 6ms/step\n",
            ">9, 3/10, d=0.395, g=1.092\n",
            "2/2 [==============================] - 0s 10ms/step\n",
            ">9, 4/10, d=0.366, g=1.132\n",
            "2/2 [==============================] - 0s 7ms/step\n",
            ">9, 5/10, d=0.335, g=1.111\n",
            "2/2 [==============================] - 0s 7ms/step\n",
            ">9, 6/10, d=0.325, g=1.146\n",
            "2/2 [==============================] - 0s 7ms/step\n",
            ">9, 7/10, d=0.319, g=1.146\n",
            "2/2 [==============================] - 0s 6ms/step\n",
            ">9, 8/10, d=0.320, g=1.153\n",
            "2/2 [==============================] - 0s 6ms/step\n",
            ">9, 9/10, d=0.311, g=1.168\n",
            "2/2 [==============================] - 0s 7ms/step\n",
            ">9, 10/10, d=0.301, g=1.206\n",
            "4/4 [==============================] - 0s 4ms/step\n",
            ">Accuracy real: 100%, fake: 98%\n",
            "2/2 [==============================] - 0s 7ms/step\n",
            ">10, 1/10, d=0.282, g=1.213\n",
            "2/2 [==============================] - 0s 7ms/step\n",
            ">10, 2/10, d=0.266, g=1.228\n",
            "2/2 [==============================] - 0s 8ms/step\n",
            ">10, 3/10, d=0.264, g=1.266\n",
            "2/2 [==============================] - 0s 9ms/step\n",
            ">10, 4/10, d=0.265, g=1.273\n",
            "2/2 [==============================] - 0s 7ms/step\n",
            ">10, 5/10, d=0.262, g=1.285\n",
            "2/2 [==============================] - 0s 8ms/step\n",
            ">10, 6/10, d=0.249, g=1.275\n",
            "2/2 [==============================] - 0s 7ms/step\n",
            ">10, 7/10, d=0.240, g=1.305\n",
            "2/2 [==============================] - 0s 12ms/step\n",
            ">10, 8/10, d=0.236, g=1.347\n",
            "2/2 [==============================] - 0s 8ms/step\n",
            ">10, 9/10, d=0.232, g=1.347\n",
            "2/2 [==============================] - 0s 6ms/step\n",
            ">10, 10/10, d=0.225, g=1.394\n",
            "4/4 [==============================] - 0s 4ms/step\n",
            ">Accuracy real: 100%, fake: 100%\n"
          ]
        }
      ]
    },
    {
      "cell_type": "code",
      "source": [
        "g_model.summary()"
      ],
      "metadata": {
        "colab": {
          "base_uri": "https://localhost:8080/"
        },
        "id": "PYRNu0644LIl",
        "outputId": "afe35548-87f2-427b-d4d3-506ac637e876"
      },
      "id": "PYRNu0644LIl",
      "execution_count": 16,
      "outputs": [
        {
          "output_type": "stream",
          "name": "stdout",
          "text": [
            "Model: \"sequential_1\"\n",
            "_________________________________________________________________\n",
            " Layer (type)                Output Shape              Param #   \n",
            "=================================================================\n",
            " dense_1 (Dense)             (None, 6272)              18816     \n",
            "                                                                 \n",
            " leaky_re_lu (LeakyReLU)     (None, 6272)              0         \n",
            "                                                                 \n",
            " reshape (Reshape)           (None, 7, 7, 128)         0         \n",
            "                                                                 \n",
            " conv2d_transpose (Conv2DTra  (None, 28, 28, 128)      65664     \n",
            " nspose)                                                         \n",
            "                                                                 \n",
            " leaky_re_lu_1 (LeakyReLU)   (None, 28, 28, 128)       0         \n",
            "                                                                 \n",
            " conv2d_1 (Conv2D)           (None, 28, 28, 1)         6273      \n",
            "                                                                 \n",
            "=================================================================\n",
            "Total params: 90,753\n",
            "Trainable params: 90,753\n",
            "Non-trainable params: 0\n",
            "_________________________________________________________________\n"
          ]
        }
      ]
    },
    {
      "cell_type": "code",
      "source": [
        "X = generate_latent_points(latent_dim=latent_dim, n_samples=1)\n",
        "X_fake = g_model.predict(X)\n",
        "_, X_real = basic_gan.generate_real_data(data_size=1)"
      ],
      "metadata": {
        "id": "R5fhKX8uCNf5",
        "outputId": "7c6a0b7f-607a-4b24-efaa-32f8086e0d3d",
        "colab": {
          "base_uri": "https://localhost:8080/"
        }
      },
      "id": "R5fhKX8uCNf5",
      "execution_count": 17,
      "outputs": [
        {
          "output_type": "stream",
          "name": "stdout",
          "text": [
            "1/1 [==============================] - 0s 38ms/step\n"
          ]
        }
      ]
    },
    {
      "cell_type": "code",
      "source": [
        "basic_gan.show(X_fake.reshape(28,28))"
      ],
      "metadata": {
        "id": "pmTjmlDMCgcK",
        "outputId": "63774f74-416b-4af6-936f-26539bbbb4fd",
        "colab": {
          "base_uri": "https://localhost:8080/",
          "height": 241
        }
      },
      "id": "pmTjmlDMCgcK",
      "execution_count": 18,
      "outputs": [
        {
          "output_type": "display_data",
          "data": {
            "text/plain": [
              "<PIL.Image.Image image mode=L size=224x224 at 0x7F55A0267AD0>"
            ],
            "image/png": "[encoded data removed]"
          },
          "metadata": {}
        }
      ]
    },
    {
      "cell_type": "code",
      "source": [
        "basic_gan.show(X_real.reshape(28,28))"
      ],
      "metadata": {
        "id": "6xQB7jmjGHOl",
        "outputId": "74685eca-0124-4e64-e7d7-0dd5d3f9f798",
        "colab": {
          "base_uri": "https://localhost:8080/",
          "height": 241
        }
      },
      "id": "6xQB7jmjGHOl",
      "execution_count": 20,
      "outputs": [
        {
          "output_type": "display_data",
          "data": {
            "text/plain": [
              "<PIL.Image.Image image mode=L size=224x224 at 0x7F54C8399D10>"
            ],
            "image/png": "[encoded data removed]"
          },
          "metadata": {}
        }
      ]
    },
    {
      "cell_type": "code",
      "source": [
        "\n",
        "print(d_model.predict(X_fake.reshape(1,28,28,1)))\n",
        "print(d_model.predict(X_real.reshape(1,28,28,1)))"
      ],
      "metadata": {
        "id": "IKktq-BH_UGV",
        "outputId": "b9f0fb5d-6a9c-4edf-87a6-47eab9f18b8c",
        "colab": {
          "base_uri": "https://localhost:8080/"
        }
      },
      "id": "IKktq-BH_UGV",
      "execution_count": 19,
      "outputs": [
        {
          "output_type": "stream",
          "name": "stdout",
          "text": [
            "1/1 [==============================] - 0s 59ms/step\n",
            "[[0.77038676]]\n",
            "1/1 [==============================] - 0s 19ms/step\n",
            "[[0.11468859]]\n"
          ]
        }
      ]
    }
  ],
  "metadata": {
    "kernelspec": {
      "display_name": "Python 3",
      "language": "python",
      "name": "python3"
    },
    "language_info": {
      "codemirror_mode": {
        "name": "ipython",
        "version": 3
      },
      "file_extension": ".py",
      "mimetype": "text/x-python",
      "name": "python",
      "nbconvert_exporter": "python",
      "pygments_lexer": "ipython3",
      "version": "3.8.8"
    },
    "colab": {
      "provenance": []
    },
    "accelerator": "GPU",
    "gpuClass": "standard"
  },
  "nbformat": 4,
  "nbformat_minor": 5
}