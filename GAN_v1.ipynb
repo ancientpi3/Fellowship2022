{
  "cells": [
    {
      "cell_type": "code",
      "execution_count": 1,
      "id": "3eb6f1c8",
      "metadata": {
        "id": "3eb6f1c8"
      },
      "outputs": [],
      "source": [
        "import numpy as np\n",
        "from numpy import expand_dims\n",
        "from numpy import zeros\n",
        "from numpy import ones\n",
        "from numpy import vstack\n",
        "from numpy.random import randn\n",
        "from numpy.random import randint\n",
        "from keras.datasets.mnist import load_data\n",
        "from keras.optimizers import Adam\n",
        "from keras.models import Sequential\n",
        "from keras.layers import Dense\n",
        "from keras.layers import Reshape\n",
        "from keras.layers import Flatten\n",
        "from keras.layers import Conv2D\n",
        "from keras.layers import Conv2DTranspose\n",
        "from keras.layers import LeakyReLU\n",
        "from keras.layers import Dropout\n",
        "from matplotlib import pyplot\n",
        "from google.colab.patches import cv2_imshow\n",
        "import cv2"
      ]
    },
    {
      "cell_type": "code",
      "source": [
        "!git clone https://github.com/ancientpi3/Fellowship2022.git\n",
        "from Fellowship2022.modules import basic_gan"
      ],
      "metadata": {
        "colab": {
          "base_uri": "https://localhost:8080/"
        },
        "id": "DXWAFoeBCDKp",
        "outputId": "1d58e01c-7139-4031-82ff-c3bf209dfac8"
      },
      "id": "DXWAFoeBCDKp",
      "execution_count": 2,
      "outputs": [
        {
          "output_type": "stream",
          "name": "stdout",
          "text": [
            "Cloning into 'Fellowship2022'...\n",
            "remote: Enumerating objects: 88, done.\u001b[K\n",
            "remote: Counting objects: 100% (88/88), done.\u001b[K\n",
            "remote: Compressing objects: 100% (83/83), done.\u001b[K\n",
            "remote: Total 88 (delta 35), reused 0 (delta 0), pack-reused 0\u001b[K\n",
            "Unpacking objects: 100% (88/88), done.\n"
          ]
        }
      ]
    },
    {
      "cell_type": "code",
      "source": [
        "def define_gan(g_model, d_model):\n",
        "\t# make weights in the discriminator not trainable\n",
        "\td_model.trainable = False\n",
        "\t# connect them\n",
        "\tmodel = Sequential()\n",
        "\t# add generator\n",
        "\tmodel.add(g_model)\n",
        "\t# add the discriminator\n",
        "\tmodel.add(d_model)\n",
        "\t# compile model\n",
        "\topt = Adam(lr=0.0002, beta_1=0.5)\n",
        "\tmodel.compile(loss='binary_crossentropy', optimizer=opt)\n",
        "\treturn model"
      ],
      "metadata": {
        "id": "YlztkjkrDia0"
      },
      "id": "YlztkjkrDia0",
      "execution_count": 3,
      "outputs": []
    },
    {
      "cell_type": "code",
      "source": [
        "def generate_latent_points(latent_dim, n_samples):\n",
        "\t# generate points in the latent space\n",
        "\tx_input = randn(latent_dim * n_samples)\n",
        "\t# reshape into a batch of inputs for the network\n",
        "\tx_input = x_input.reshape(n_samples, latent_dim)\n",
        "\treturn x_input"
      ],
      "metadata": {
        "id": "eXj8MflBP5_q"
      },
      "id": "eXj8MflBP5_q",
      "execution_count": 4,
      "outputs": []
    },
    {
      "cell_type": "code",
      "source": [
        "def generate_fake_samples(g_model, latent_dim, n_samples):\n",
        "\t# generate points in latent space\n",
        "\tx_input = generate_latent_points(latent_dim, n_samples)\n",
        "\t# predict outputs\n",
        "\tX = g_model.predict(x_input)\n",
        "\t# create 'fake' class labels (0)\n",
        "\ty = ones((n_samples, 1))\n",
        "\treturn X, y"
      ],
      "metadata": {
        "id": "zzZgFwiSQJu0"
      },
      "id": "zzZgFwiSQJu0",
      "execution_count": 5,
      "outputs": []
    },
    {
      "cell_type": "code",
      "source": [
        "def summarize_performance(epoch, g_model, d_model, latent_dim, n_samples=100):\n",
        "\t# prepare real samples\n",
        "  y_real, X_real = basic_gan.generate_real_data(data_size = n_samples)\n",
        "  X_real = X_real.reshape(n_samples, 28,28,1)\n",
        "  y_real = y_real.reshape(n_samples, 1)\n",
        "\t# evaluate discriminator on real examples\n",
        "  _, acc_real = d_model.evaluate(X_real, y_real, verbose=0)\n",
        "  # prepare fake examples\n",
        "  x_fake, y_fake = generate_fake_samples(g_model, latent_dim, n_samples)\n",
        "  # evaluate discriminator on fake examples\n",
        "  _, acc_fake = d_model.evaluate(x_fake, y_fake, verbose=0)\n",
        "  # summarize discriminator performance\n",
        "  print('>Accuracy real: %.0f%%, fake: %.0f%%' % (acc_real*100, acc_fake*100))\n",
        "  # save plot\n",
        "  #save_plot(x_fake, epoch)\n",
        "  # save the generator model tile file\n",
        "  #filename = 'generator_model_%03d.h5' % (epoch + 1)\n",
        "  #g_model.save(filename)"
      ],
      "metadata": {
        "id": "6TcyXVMbUebP"
      },
      "id": "6TcyXVMbUebP",
      "execution_count": 7,
      "outputs": []
    },
    {
      "cell_type": "code",
      "source": [
        "# train the generator and discriminator\n",
        "def train(g_model, d_model, gan_model, latent_dim, n_epochs=10, n_batch=100, real_data_size = 1000):\n",
        "  bat_per_epo = int(real_data_size / n_batch)\n",
        "  half_batch = int(n_batch / 2)\n",
        "  # manually enumerate epochs\n",
        "  for i in range(n_epochs):\n",
        "    # enumerate batches over the training set\n",
        "    for j in range(bat_per_epo):\n",
        "      # get randomly selected 'real' samples\n",
        "\n",
        "      y_real, X_real = basic_gan.generate_real_data(data_size = half_batch)\n",
        "      X_real = X_real.reshape(half_batch, 28,28,1)\n",
        "      y_real = y_real.reshape(half_batch, 1)\n",
        "\n",
        "      # generate 'fake' examples\n",
        "      X_fake, y_fake = generate_fake_samples(g_model, latent_dim, half_batch)\n",
        "      # create training set for the discriminator\n",
        "      X, y = vstack((X_real, X_fake)), vstack((y_real, y_fake))\n",
        "      # update discriminator model weights\n",
        "      d_loss, _ = d_model.train_on_batch(X, y)\n",
        "      # prepare points in latent space as input for the generator\n",
        "      X_gan = generate_latent_points(latent_dim, n_batch)\n",
        "      # create inverted labels for the fake samples\n",
        "      y_gan = ones((n_batch, 1))\n",
        "      # update the generator via the discriminator's error\n",
        "      g_loss = gan_model.train_on_batch(X_gan, y_gan)\n",
        "      # summarize loss on this batch\n",
        "      print('>%d, %d/%d, d=%.3f, g=%.3f' % (i+1, j+1, bat_per_epo, d_loss, g_loss))\n",
        "    # evaluate the model performance, sometimes\n",
        "    if (i+1) % 1 == 0:\n",
        "      summarize_performance(i, g_model, d_model, latent_dim)\n"
      ],
      "metadata": {
        "id": "Fe4fQfyi-EIb"
      },
      "id": "Fe4fQfyi-EIb",
      "execution_count": 8,
      "outputs": []
    },
    {
      "cell_type": "code",
      "source": [
        "latent_dim = 2\n",
        "d_model = basic_gan.define_discriminator()\n",
        "g_model = basic_gan.define_generator(latent_dim)\n",
        "gan_model = define_gan(g_model,d_model)"
      ],
      "metadata": {
        "colab": {
          "base_uri": "https://localhost:8080/"
        },
        "id": "jS2EuYgBWDZy",
        "outputId": "0479cd98-7d38-43d7-d6f8-517c7abc7d03"
      },
      "id": "jS2EuYgBWDZy",
      "execution_count": 9,
      "outputs": [
        {
          "output_type": "stream",
          "name": "stderr",
          "text": [
            "/usr/local/lib/python3.7/dist-packages/keras/optimizers/optimizer_v2/adam.py:110: UserWarning: The `lr` argument is deprecated, use `learning_rate` instead.\n",
            "  super(Adam, self).__init__(name, **kwargs)\n"
          ]
        }
      ]
    },
    {
      "cell_type": "code",
      "source": [
        "dataset = basic_gan.generate_real_data(data_size=100)"
      ],
      "metadata": {
        "id": "kUeISssEWDzD"
      },
      "id": "kUeISssEWDzD",
      "execution_count": 10,
      "outputs": []
    },
    {
      "cell_type": "code",
      "source": [
        "real_label,real_x = dataset"
      ],
      "metadata": {
        "id": "akqgH6nlWhNR"
      },
      "id": "akqgH6nlWhNR",
      "execution_count": 11,
      "outputs": []
    },
    {
      "cell_type": "code",
      "source": [
        "real_x = real_x.reshape(100,28,28,1)\n",
        "real_label = real_label.reshape(100,1)"
      ],
      "metadata": {
        "id": "dhObghvvWocI"
      },
      "id": "dhObghvvWocI",
      "execution_count": 12,
      "outputs": []
    },
    {
      "cell_type": "code",
      "source": [
        "fake_x, fake_label = generate_fake_samples(g_model,latent_dim=latent_dim, n_samples=100)"
      ],
      "metadata": {
        "colab": {
          "base_uri": "https://localhost:8080/"
        },
        "id": "F1BV2Upim45i",
        "outputId": "c3cbe0bf-f402-422f-f9dd-b22784dac200"
      },
      "id": "F1BV2Upim45i",
      "execution_count": 13,
      "outputs": [
        {
          "output_type": "stream",
          "name": "stdout",
          "text": [
            "4/4 [==============================] - 11s 18ms/step\n"
          ]
        }
      ]
    },
    {
      "cell_type": "code",
      "source": [
        "print(real_x.shape)\n",
        "print(fake_x.shape)\n",
        "print(real_label.shape)\n",
        "print(fake_label.shape)"
      ],
      "metadata": {
        "colab": {
          "base_uri": "https://localhost:8080/"
        },
        "id": "BwFNez3onGUL",
        "outputId": "59dc04d5-7b0d-41be-9246-bd22cdedd8ce"
      },
      "id": "BwFNez3onGUL",
      "execution_count": 14,
      "outputs": [
        {
          "output_type": "stream",
          "name": "stdout",
          "text": [
            "(100, 28, 28, 1)\n",
            "(100, 28, 28, 1)\n",
            "(100, 1)\n",
            "(100, 1)\n"
          ]
        }
      ]
    },
    {
      "cell_type": "code",
      "source": [
        "train(g_model, d_model, gan_model,latent_dim)"
      ],
      "metadata": {
        "colab": {
          "base_uri": "https://localhost:8080/"
        },
        "id": "1uDExgtAsc98",
        "outputId": "a04414dd-99ee-42f4-e4b1-d19bde167d7c"
      },
      "id": "1uDExgtAsc98",
      "execution_count": 15,
      "outputs": [
        {
          "output_type": "stream",
          "name": "stdout",
          "text": [
            "2/2 [==============================] - 0s 60ms/step\n",
            ">1, 1/10, d=0.705, g=0.816\n",
            "2/2 [==============================] - 0s 4ms/step\n",
            ">1, 2/10, d=0.626, g=0.970\n",
            "2/2 [==============================] - 0s 5ms/step\n",
            ">1, 3/10, d=0.558, g=1.140\n",
            "2/2 [==============================] - 0s 5ms/step\n",
            ">1, 4/10, d=0.498, g=1.328\n",
            "2/2 [==============================] - 0s 5ms/step\n",
            ">1, 5/10, d=0.443, g=1.531\n",
            "2/2 [==============================] - 0s 5ms/step\n",
            ">1, 6/10, d=0.396, g=1.748\n",
            "2/2 [==============================] - 0s 5ms/step\n",
            ">1, 7/10, d=0.354, g=1.976\n",
            "2/2 [==============================] - 0s 5ms/step\n",
            ">1, 8/10, d=0.316, g=2.211\n",
            "2/2 [==============================] - 0s 5ms/step\n",
            ">1, 9/10, d=0.286, g=2.448\n",
            "2/2 [==============================] - 0s 5ms/step\n",
            ">1, 10/10, d=0.257, g=2.680\n",
            "4/4 [==============================] - 0s 3ms/step\n",
            ">Accuracy real: 100%, fake: 100%\n",
            "2/2 [==============================] - 0s 6ms/step\n",
            ">2, 1/10, d=0.233, g=2.913\n",
            "2/2 [==============================] - 0s 6ms/step\n",
            ">2, 2/10, d=0.209, g=3.155\n",
            "2/2 [==============================] - 0s 5ms/step\n",
            ">2, 3/10, d=0.187, g=3.400\n",
            "2/2 [==============================] - 0s 3ms/step\n",
            ">2, 4/10, d=0.168, g=3.635\n",
            "2/2 [==============================] - 0s 5ms/step\n",
            ">2, 5/10, d=0.151, g=3.869\n",
            "2/2 [==============================] - 0s 5ms/step\n",
            ">2, 6/10, d=0.133, g=4.122\n",
            "2/2 [==============================] - 0s 5ms/step\n",
            ">2, 7/10, d=0.118, g=4.350\n",
            "2/2 [==============================] - 0s 6ms/step\n",
            ">2, 8/10, d=0.104, g=4.574\n",
            "2/2 [==============================] - 0s 5ms/step\n",
            ">2, 9/10, d=0.093, g=4.788\n",
            "2/2 [==============================] - 0s 5ms/step\n",
            ">2, 10/10, d=0.082, g=5.009\n",
            "4/4 [==============================] - 0s 3ms/step\n",
            ">Accuracy real: 100%, fake: 100%\n",
            "2/2 [==============================] - 0s 5ms/step\n",
            ">3, 1/10, d=0.072, g=5.203\n",
            "2/2 [==============================] - 0s 5ms/step\n",
            ">3, 2/10, d=0.062, g=5.393\n",
            "2/2 [==============================] - 0s 5ms/step\n",
            ">3, 3/10, d=0.055, g=5.576\n",
            "2/2 [==============================] - 0s 5ms/step\n",
            ">3, 4/10, d=0.049, g=5.713\n",
            "2/2 [==============================] - 0s 5ms/step\n",
            ">3, 5/10, d=0.043, g=5.820\n",
            "2/2 [==============================] - 0s 5ms/step\n",
            ">3, 6/10, d=0.038, g=5.922\n",
            "2/2 [==============================] - 0s 4ms/step\n",
            ">3, 7/10, d=0.034, g=6.000\n",
            "2/2 [==============================] - 0s 5ms/step\n",
            ">3, 8/10, d=0.030, g=6.058\n",
            "2/2 [==============================] - 0s 6ms/step\n",
            ">3, 9/10, d=0.027, g=6.105\n",
            "2/2 [==============================] - 0s 6ms/step\n",
            ">3, 10/10, d=0.025, g=6.118\n",
            "4/4 [==============================] - 0s 3ms/step\n",
            ">Accuracy real: 100%, fake: 100%\n",
            "2/2 [==============================] - 0s 3ms/step\n",
            ">4, 1/10, d=0.022, g=6.129\n",
            "2/2 [==============================] - 0s 4ms/step\n",
            ">4, 2/10, d=0.020, g=6.122\n",
            "2/2 [==============================] - 0s 5ms/step\n",
            ">4, 3/10, d=0.018, g=6.105\n",
            "2/2 [==============================] - 0s 5ms/step\n",
            ">4, 4/10, d=0.016, g=6.108\n",
            "2/2 [==============================] - 0s 5ms/step\n",
            ">4, 5/10, d=0.015, g=6.043\n",
            "2/2 [==============================] - 0s 4ms/step\n",
            ">4, 6/10, d=0.014, g=6.033\n",
            "2/2 [==============================] - 0s 5ms/step\n",
            ">4, 7/10, d=0.013, g=5.954\n",
            "2/2 [==============================] - 0s 6ms/step\n",
            ">4, 8/10, d=0.012, g=5.906\n",
            "2/2 [==============================] - 0s 4ms/step\n",
            ">4, 9/10, d=0.011, g=5.908\n",
            "2/2 [==============================] - 0s 4ms/step\n",
            ">4, 10/10, d=0.010, g=5.827\n",
            "4/4 [==============================] - 0s 3ms/step\n",
            ">Accuracy real: 100%, fake: 100%\n",
            "2/2 [==============================] - 0s 10ms/step\n",
            ">5, 1/10, d=0.010, g=5.704\n",
            "2/2 [==============================] - 0s 6ms/step\n",
            ">5, 2/10, d=0.009, g=5.643\n",
            "2/2 [==============================] - 0s 5ms/step\n",
            ">5, 3/10, d=0.009, g=5.594\n",
            "2/2 [==============================] - 0s 4ms/step\n",
            ">5, 4/10, d=0.009, g=5.513\n",
            "2/2 [==============================] - 0s 5ms/step\n",
            ">5, 5/10, d=0.008, g=5.495\n",
            "2/2 [==============================] - 0s 6ms/step\n",
            ">5, 6/10, d=0.008, g=5.432\n",
            "2/2 [==============================] - 0s 7ms/step\n",
            ">5, 7/10, d=0.008, g=5.341\n",
            "2/2 [==============================] - 0s 5ms/step\n",
            ">5, 8/10, d=0.007, g=5.416\n",
            "2/2 [==============================] - 0s 5ms/step\n",
            ">5, 9/10, d=0.007, g=5.320\n",
            "2/2 [==============================] - 0s 6ms/step\n",
            ">5, 10/10, d=0.007, g=5.240\n",
            "4/4 [==============================] - 0s 3ms/step\n",
            ">Accuracy real: 100%, fake: 100%\n",
            "2/2 [==============================] - 0s 5ms/step\n",
            ">6, 1/10, d=0.007, g=5.225\n",
            "2/2 [==============================] - 0s 5ms/step\n",
            ">6, 2/10, d=0.006, g=5.185\n",
            "2/2 [==============================] - 0s 5ms/step\n",
            ">6, 3/10, d=0.006, g=5.157\n",
            "2/2 [==============================] - 0s 10ms/step\n",
            ">6, 4/10, d=0.006, g=5.087\n",
            "2/2 [==============================] - 0s 5ms/step\n",
            ">6, 5/10, d=0.006, g=5.158\n",
            "2/2 [==============================] - 0s 5ms/step\n",
            ">6, 6/10, d=0.006, g=5.106\n",
            "2/2 [==============================] - 0s 3ms/step\n",
            ">6, 7/10, d=0.005, g=5.166\n",
            "2/2 [==============================] - 0s 6ms/step\n",
            ">6, 8/10, d=0.005, g=5.177\n",
            "2/2 [==============================] - 0s 6ms/step\n",
            ">6, 9/10, d=0.005, g=5.131\n",
            "2/2 [==============================] - 0s 5ms/step\n",
            ">6, 10/10, d=0.005, g=5.022\n",
            "4/4 [==============================] - 0s 3ms/step\n",
            ">Accuracy real: 100%, fake: 100%\n",
            "2/2 [==============================] - 0s 4ms/step\n",
            ">7, 1/10, d=0.005, g=5.150\n",
            "2/2 [==============================] - 0s 10ms/step\n",
            ">7, 2/10, d=0.005, g=5.078\n",
            "2/2 [==============================] - 0s 5ms/step\n",
            ">7, 3/10, d=0.005, g=5.153\n",
            "2/2 [==============================] - 0s 5ms/step\n",
            ">7, 4/10, d=0.005, g=5.185\n",
            "2/2 [==============================] - 0s 6ms/step\n",
            ">7, 5/10, d=0.004, g=5.153\n",
            "2/2 [==============================] - 0s 6ms/step\n",
            ">7, 6/10, d=0.004, g=5.128\n",
            "2/2 [==============================] - 0s 6ms/step\n",
            ">7, 7/10, d=0.004, g=5.146\n",
            "2/2 [==============================] - 0s 6ms/step\n",
            ">7, 8/10, d=0.004, g=5.178\n",
            "2/2 [==============================] - 0s 6ms/step\n",
            ">7, 9/10, d=0.004, g=5.224\n",
            "2/2 [==============================] - 0s 6ms/step\n",
            ">7, 10/10, d=0.004, g=5.209\n",
            "4/4 [==============================] - 0s 3ms/step\n",
            ">Accuracy real: 100%, fake: 100%\n",
            "2/2 [==============================] - 0s 5ms/step\n",
            ">8, 1/10, d=0.004, g=5.241\n",
            "2/2 [==============================] - 0s 5ms/step\n",
            ">8, 2/10, d=0.003, g=5.255\n",
            "2/2 [==============================] - 0s 4ms/step\n",
            ">8, 3/10, d=0.003, g=5.254\n",
            "2/2 [==============================] - 0s 4ms/step\n",
            ">8, 4/10, d=0.003, g=5.301\n",
            "2/2 [==============================] - 0s 7ms/step\n",
            ">8, 5/10, d=0.003, g=5.315\n",
            "2/2 [==============================] - 0s 5ms/step\n",
            ">8, 6/10, d=0.003, g=5.345\n",
            "2/2 [==============================] - 0s 5ms/step\n",
            ">8, 7/10, d=0.003, g=5.391\n",
            "2/2 [==============================] - 0s 6ms/step\n",
            ">8, 8/10, d=0.003, g=5.403\n",
            "2/2 [==============================] - 0s 5ms/step\n",
            ">8, 9/10, d=0.003, g=5.401\n",
            "2/2 [==============================] - 0s 5ms/step\n",
            ">8, 10/10, d=0.003, g=5.453\n",
            "4/4 [==============================] - 0s 3ms/step\n",
            ">Accuracy real: 100%, fake: 100%\n",
            "2/2 [==============================] - 0s 5ms/step\n",
            ">9, 1/10, d=0.003, g=5.470\n",
            "2/2 [==============================] - 0s 4ms/step\n",
            ">9, 2/10, d=0.003, g=5.491\n",
            "2/2 [==============================] - 0s 3ms/step\n",
            ">9, 3/10, d=0.003, g=5.541\n",
            "2/2 [==============================] - 0s 5ms/step\n",
            ">9, 4/10, d=0.002, g=5.547\n",
            "2/2 [==============================] - 0s 5ms/step\n",
            ">9, 5/10, d=0.002, g=5.582\n",
            "2/2 [==============================] - 0s 5ms/step\n",
            ">9, 6/10, d=0.002, g=5.581\n",
            "2/2 [==============================] - 0s 6ms/step\n",
            ">9, 7/10, d=0.002, g=5.625\n",
            "2/2 [==============================] - 0s 3ms/step\n",
            ">9, 8/10, d=0.002, g=5.649\n",
            "2/2 [==============================] - 0s 5ms/step\n",
            ">9, 9/10, d=0.002, g=5.676\n",
            "2/2 [==============================] - 0s 6ms/step\n",
            ">9, 10/10, d=0.002, g=5.693\n",
            "4/4 [==============================] - 0s 3ms/step\n",
            ">Accuracy real: 100%, fake: 100%\n",
            "2/2 [==============================] - 0s 6ms/step\n",
            ">10, 1/10, d=0.002, g=5.743\n",
            "2/2 [==============================] - 0s 5ms/step\n",
            ">10, 2/10, d=0.002, g=5.738\n",
            "2/2 [==============================] - 0s 13ms/step\n",
            ">10, 3/10, d=0.002, g=5.796\n",
            "2/2 [==============================] - 0s 6ms/step\n",
            ">10, 4/10, d=0.002, g=5.790\n",
            "2/2 [==============================] - 0s 6ms/step\n",
            ">10, 5/10, d=0.002, g=5.837\n",
            "2/2 [==============================] - 0s 6ms/step\n",
            ">10, 6/10, d=0.002, g=5.846\n",
            "2/2 [==============================] - 0s 6ms/step\n",
            ">10, 7/10, d=0.002, g=5.871\n",
            "2/2 [==============================] - 0s 5ms/step\n",
            ">10, 8/10, d=0.002, g=5.883\n",
            "2/2 [==============================] - 0s 5ms/step\n",
            ">10, 9/10, d=0.002, g=5.934\n",
            "2/2 [==============================] - 0s 6ms/step\n",
            ">10, 10/10, d=0.002, g=5.947\n",
            "4/4 [==============================] - 0s 3ms/step\n",
            ">Accuracy real: 100%, fake: 100%\n"
          ]
        }
      ]
    },
    {
      "cell_type": "code",
      "source": [
        "fake_x, fake_label = generate_fake_samples(g_model,latent_dim=latent_dim, n_samples=1)\n",
        "basic_gan.show(fake_x[0])"
      ],
      "metadata": {
        "id": "PYRNu0644LIl",
        "outputId": "2e3c2ee6-ceb2-4463-9bc6-e48c7e297958",
        "colab": {
          "base_uri": "https://localhost:8080/",
          "height": 258
        }
      },
      "id": "PYRNu0644LIl",
      "execution_count": 16,
      "outputs": [
        {
          "output_type": "stream",
          "name": "stdout",
          "text": [
            "1/1 [==============================] - 0s 44ms/step\n"
          ]
        },
        {
          "output_type": "display_data",
          "data": {
            "text/plain": [
              "<PIL.Image.Image image mode=L size=224x224 at 0x7F5A90A6AA90>"
            ],
            "image/png": "[encoded data removed]"
          },
          "metadata": {}
        }
      ]
    }
  ],
  "metadata": {
    "kernelspec": {
      "display_name": "Python 3",
      "language": "python",
      "name": "python3"
    },
    "language_info": {
      "codemirror_mode": {
        "name": "ipython",
        "version": 3
      },
      "file_extension": ".py",
      "mimetype": "text/x-python",
      "name": "python",
      "nbconvert_exporter": "python",
      "pygments_lexer": "ipython3",
      "version": "3.8.8"
    },
    "colab": {
      "provenance": []
    },
    "accelerator": "GPU",
    "gpuClass": "standard"
  },
  "nbformat": 4,
  "nbformat_minor": 5
}