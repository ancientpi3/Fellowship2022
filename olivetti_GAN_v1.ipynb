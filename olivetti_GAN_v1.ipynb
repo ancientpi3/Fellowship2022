{
  "nbformat": 4,
  "nbformat_minor": 0,
  "metadata": {
    "colab": {
      "provenance": [],
      "authorship_tag": "ABX9TyODY7RR2NnIWL5lFkZxa/mL",
      "include_colab_link": true
    },
    "kernelspec": {
      "name": "python3",
      "display_name": "Python 3"
    },
    "language_info": {
      "name": "python"
    },
    "accelerator": "GPU",
    "gpuClass": "standard"
  },
  "cells": [
    {
      "cell_type": "markdown",
      "metadata": {
        "id": "view-in-github",
        "colab_type": "text"
      },
      "source": [
        "<a href=\"https://colab.research.google.com/github/ancientpi3/Fellowship2022/blob/main/olivetti_GAN_v1.ipynb\" target=\"_parent\"><img src=\"https://colab.research.google.com/assets/colab-badge.svg\" alt=\"Open In Colab\"/></a>"
      ]
    },
    {
      "cell_type": "code",
      "source": [
        "import tensorflow as tf\n",
        "from tensorflow import keras\n",
        "import matplotlib.pyplot as plt\n",
        "import cv2\n",
        "import numpy as np\n",
        "from google.colab import drive\n",
        "from google.colab import files\n",
        "from zipfile import ZipFile\n",
        "import cv2\n",
        "import os"
      ],
      "metadata": {
        "id": "jo7FBs1wFcAZ"
      },
      "execution_count": 2,
      "outputs": []
    },
    {
      "cell_type": "code",
      "source": [
        "drive.mount('/content/gdrive')\n",
        "filename = \"/content/gdrive/MyDrive/olivetti_faces.npy.zip\"\n",
        "\n",
        "with ZipFile(filename, \"r\",) as zip:\n",
        "  zip.extractall(path=\"/content/face_data\")"
      ],
      "metadata": {
        "colab": {
          "base_uri": "https://localhost:8080/"
        },
        "id": "Uzrql3JJFneX",
        "outputId": "960450dc-7c34-4d27-b58e-432de862a63c"
      },
      "execution_count": 4,
      "outputs": [
        {
          "output_type": "stream",
          "name": "stdout",
          "text": [
            "Mounted at /content/gdrive\n"
          ]
        }
      ]
    },
    {
      "cell_type": "code",
      "source": [
        "x_train = np.load(\"/content/face_data/olivetti_faces.npy\")"
      ],
      "metadata": {
        "id": "l1_zdvgcF7nb"
      },
      "execution_count": 5,
      "outputs": []
    },
    {
      "cell_type": "code",
      "source": [
        "x_train.shape"
      ],
      "metadata": {
        "colab": {
          "base_uri": "https://localhost:8080/"
        },
        "id": "-UlMfKTfGCuy",
        "outputId": "1d74ec27-32c3-4e5e-93c2-490c7b4357a5"
      },
      "execution_count": 6,
      "outputs": [
        {
          "output_type": "execute_result",
          "data": {
            "text/plain": [
              "(400, 64, 64)"
            ]
          },
          "metadata": {},
          "execution_count": 6
        }
      ]
    },
    {
      "cell_type": "code",
      "source": [
        "latent_dim = 300\n"
      ],
      "metadata": {
        "id": "wWsDWaA1XCq8"
      },
      "execution_count": 65,
      "outputs": []
    },
    {
      "cell_type": "code",
      "source": [
        "def discriminator():\n",
        "  discriminator_input = keras.Input(shape=(64,64,1),name=\"d_input\")\n",
        "  x = keras.layers.Conv2D(128,(3,3),strides = (2,2),padding = \"same\", activation=\"relu\")(discriminator_input)\n",
        "  x = keras.layers.Conv2D(128,(3,3),strides = (1,1),padding = \"same\", activation=\"relu\")(x)\n",
        "  x = keras.layers.Conv2D(128,(3,3),strides = (2,2),padding = \"same\", activation=\"relu\")(x)\n",
        "  x = keras.layers.Dropout(rate=.3)(x)\n",
        "  x = keras.layers.Flatten()(x)\n",
        "  x = keras.layers.Dense(50)(x)\n",
        "  x = keras.layers.Dropout(rate=.3)(x)\n",
        "  discriminator_output = keras.layers.Dense(1, activation='sigmoid')(x)\n",
        "  model = keras.Model(discriminator_input, discriminator_output,name=\"discriminator\")\n",
        "  opt = keras.optimizers.Adam(lr=0.0002, beta_1=0.5)\n",
        "  model.compile(loss='binary_crossentropy', optimizer=opt, metrics=['accuracy'])\n",
        "  return model"
      ],
      "metadata": {
        "id": "uz5NSjenHBuD"
      },
      "execution_count": 31,
      "outputs": []
    },
    {
      "cell_type": "code",
      "source": [
        "def generator(latent_dim=latent_dim):\n",
        "  generator_input = keras.Input(shape=(latent_dim),name=\"g_input\")\n",
        "  n_nodes = 8*8*128\n",
        "  x = keras.layers.Dense(200)(generator_input)\n",
        "  x = keras.layers.Dropout(rate=.5)(x)\n",
        "  x = keras.layers.Dense(n_nodes)(x)\n",
        "  x = keras.layers.Reshape((8,8,128))(x)\n",
        "  x = keras.layers.Dropout(rate=.5)(x)\n",
        "  x = keras.layers.Conv2DTranspose(128,(3,3),strides=(2,2),padding='same',activation=\"relu\")(x)\n",
        "  x = keras.layers.Dropout(rate=.3)(x)\n",
        "  x = keras.layers.Conv2DTranspose(128,(3,3),strides=(2,2),padding='same',activation=\"relu\")(x)\n",
        "  x = keras.layers.Dropout(rate=.3)(x)\n",
        "  x = keras.layers.Conv2DTranspose(128,(3,3),strides=(2,2),padding='same',activation=\"relu\")(x)\n",
        "  generator_output = keras.layers.Conv2D(1,(7,7),padding=\"same\",activation=\"sigmoid\")(x)\n",
        "  return keras.Model(generator_input, generator_output,name=\"generator\")"
      ],
      "metadata": {
        "id": "Jper20MqIUQ3"
      },
      "execution_count": 32,
      "outputs": []
    },
    {
      "cell_type": "code",
      "source": [
        "d_model = discriminator()\n",
        "d_model.summary()"
      ],
      "metadata": {
        "colab": {
          "base_uri": "https://localhost:8080/"
        },
        "id": "Td37AcSlIhMb",
        "outputId": "9c16ad3d-8c1a-4473-818d-0baff1bd7eb7"
      },
      "execution_count": 33,
      "outputs": [
        {
          "output_type": "stream",
          "name": "stdout",
          "text": [
            "Model: \"discriminator\"\n",
            "_________________________________________________________________\n",
            " Layer (type)                Output Shape              Param #   \n",
            "=================================================================\n",
            " d_input (InputLayer)        [(None, 64, 64, 1)]       0         \n",
            "                                                                 \n",
            " conv2d_12 (Conv2D)          (None, 32, 32, 128)       1280      \n",
            "                                                                 \n",
            " conv2d_13 (Conv2D)          (None, 32, 32, 128)       147584    \n",
            "                                                                 \n",
            " conv2d_14 (Conv2D)          (None, 16, 16, 128)       147584    \n",
            "                                                                 \n",
            " dropout_18 (Dropout)        (None, 16, 16, 128)       0         \n",
            "                                                                 \n",
            " flatten_3 (Flatten)         (None, 32768)             0         \n",
            "                                                                 \n",
            " dense_12 (Dense)            (None, 50)                1638450   \n",
            "                                                                 \n",
            " dropout_19 (Dropout)        (None, 50)                0         \n",
            "                                                                 \n",
            " dense_13 (Dense)            (None, 1)                 51        \n",
            "                                                                 \n",
            "=================================================================\n",
            "Total params: 1,934,949\n",
            "Trainable params: 1,934,949\n",
            "Non-trainable params: 0\n",
            "_________________________________________________________________\n"
          ]
        }
      ]
    },
    {
      "cell_type": "code",
      "source": [
        "g_model = generator()\n",
        "g_model.summary()"
      ],
      "metadata": {
        "colab": {
          "base_uri": "https://localhost:8080/"
        },
        "id": "sPzOavBtIiwx",
        "outputId": "105f1ef3-8f73-49f5-9522-2927c0d8c230"
      },
      "execution_count": 34,
      "outputs": [
        {
          "output_type": "stream",
          "name": "stdout",
          "text": [
            "Model: \"generator\"\n",
            "_________________________________________________________________\n",
            " Layer (type)                Output Shape              Param #   \n",
            "=================================================================\n",
            " g_input (InputLayer)        [(None, 300)]             0         \n",
            "                                                                 \n",
            " dense_14 (Dense)            (None, 200)               60200     \n",
            "                                                                 \n",
            " dropout_20 (Dropout)        (None, 200)               0         \n",
            "                                                                 \n",
            " dense_15 (Dense)            (None, 8192)              1646592   \n",
            "                                                                 \n",
            " reshape_3 (Reshape)         (None, 8, 8, 128)         0         \n",
            "                                                                 \n",
            " dropout_21 (Dropout)        (None, 8, 8, 128)         0         \n",
            "                                                                 \n",
            " conv2d_transpose_9 (Conv2DT  (None, 16, 16, 128)      147584    \n",
            " ranspose)                                                       \n",
            "                                                                 \n",
            " dropout_22 (Dropout)        (None, 16, 16, 128)       0         \n",
            "                                                                 \n",
            " conv2d_transpose_10 (Conv2D  (None, 32, 32, 128)      147584    \n",
            " Transpose)                                                      \n",
            "                                                                 \n",
            " dropout_23 (Dropout)        (None, 32, 32, 128)       0         \n",
            "                                                                 \n",
            " conv2d_transpose_11 (Conv2D  (None, 64, 64, 128)      147584    \n",
            " Transpose)                                                      \n",
            "                                                                 \n",
            " conv2d_15 (Conv2D)          (None, 64, 64, 1)         6273      \n",
            "                                                                 \n",
            "=================================================================\n",
            "Total params: 2,155,817\n",
            "Trainable params: 2,155,817\n",
            "Non-trainable params: 0\n",
            "_________________________________________________________________\n"
          ]
        }
      ]
    },
    {
      "cell_type": "code",
      "source": [
        "def GAN(d_model,g_model):\n",
        "\td_model.trainable = False\n",
        "\tmodel = keras.models.Sequential()\n",
        "\tmodel.add(g_model)\n",
        "\tmodel.add(d_model)\n",
        "\topt = keras.optimizers.Adam(lr=0.0002, beta_1=0.5)\n",
        "\tmodel.compile(loss='binary_crossentropy', optimizer=opt)\n",
        "\treturn model"
      ],
      "metadata": {
        "id": "r9J3A5CjMjoP"
      },
      "execution_count": 35,
      "outputs": []
    },
    {
      "cell_type": "code",
      "source": [
        "GAN_model = GAN(d_model,g_model)\n",
        "GAN_model.summary()"
      ],
      "metadata": {
        "colab": {
          "base_uri": "https://localhost:8080/"
        },
        "id": "RDEFRi_RK0L5",
        "outputId": "1d388170-512f-4b18-fbfd-97d96ee6b3ea"
      },
      "execution_count": 36,
      "outputs": [
        {
          "output_type": "stream",
          "name": "stdout",
          "text": [
            "Model: \"sequential_1\"\n",
            "_________________________________________________________________\n",
            " Layer (type)                Output Shape              Param #   \n",
            "=================================================================\n",
            " generator (Functional)      (None, 64, 64, 1)         2155817   \n",
            "                                                                 \n",
            " discriminator (Functional)  (None, 1)                 1934949   \n",
            "                                                                 \n",
            "=================================================================\n",
            "Total params: 4,090,766\n",
            "Trainable params: 2,155,817\n",
            "Non-trainable params: 1,934,949\n",
            "_________________________________________________________________\n"
          ]
        }
      ]
    },
    {
      "cell_type": "code",
      "source": [
        "def grab_real_batch(x_train, batch_size):\n",
        "\tix = np.random.randint(0, x_train.shape[0], batch_size)\n",
        "\tX = x_train[ix]\n",
        "\t#y = np.ones((batch_size, 1))\n",
        "\treturn X"
      ],
      "metadata": {
        "id": "NSBhsvCmJcuB"
      },
      "execution_count": 37,
      "outputs": []
    },
    {
      "cell_type": "code",
      "source": [
        "def grab_fake_batch(g_model,batch_size, latent_dim=latent_dim):\n",
        "  latent_points = np.random.randn(latent_dim*batch_size).reshape(batch_size,latent_dim)\n",
        "  predictions = g_model.predict(latent_points,verbose=0)\n",
        "  return predictions"
      ],
      "metadata": {
        "id": "vSnRWa2IJdV-"
      },
      "execution_count": 38,
      "outputs": []
    },
    {
      "cell_type": "code",
      "source": [
        "def save_plot(examples, epoch, n=10):\n",
        "\tfor i in range(40):\n",
        "\t\tplt.subplot(n, n, 1 + i)\n",
        "\t\tplt.axis('off')\n",
        "\t\tplt.imshow(examples[i, :, :, 0], cmap='gray')\n",
        "\tfilename = 'generated_plot_e%03d.png' % (epoch+1)\n",
        "\tplt.savefig(filename)\n",
        "\tplt.close()"
      ],
      "metadata": {
        "id": "4lMcAFLrJkXN"
      },
      "execution_count": 39,
      "outputs": []
    },
    {
      "cell_type": "code",
      "source": [
        "def train(d_model,g_model,gan_model, x_train, epochs=200, verbose=1):\n",
        "  latent_dim = g_model.input.shape[1]\n",
        "  batch_size = 32\n",
        "  batches_per_epoch = 50\n",
        "  save_plot(grab_fake_batch(g_model,50).reshape(50,64,64,1),epoch=0)\n",
        "  for epoch in range(epochs):\n",
        "    print(\"Epoch: \",epoch)\n",
        "    for _ in range(batches_per_epoch):\n",
        "      d_model.trainable = True\n",
        "      #print(\"training discriminator on real batch\")\n",
        "      real_batch = grab_real_batch(x_train, batch_size)\n",
        "      d_model.fit(x=real_batch, y = np.ones(batch_size),verbose=verbose)\n",
        "      #print(\"training discriminator on fake batch\")\n",
        "      fake_batch = grab_fake_batch(g_model, batch_size)\n",
        "      d_model.fit(x=fake_batch, y = np.zeros(batch_size),verbose=verbose)\n",
        "\n",
        "      d_model.trainable = False\n",
        "      #print(\"training GAN on fake batch with real label to measure how well G fools D\")\n",
        "      latent_points = np.random.randn(latent_dim*batch_size).reshape(batch_size,latent_dim)\n",
        "      gan_model.fit(x=latent_points, y=np.ones(batch_size),verbose=verbose)\n",
        "    if(epoch%20==19):\n",
        "      save_plot(grab_fake_batch(g_model,50).reshape(50,64,64,1),epoch=epoch)"
      ],
      "metadata": {
        "id": "nM6PDvimJuOD"
      },
      "execution_count": 48,
      "outputs": []
    },
    {
      "cell_type": "code",
      "source": [
        "save_plot(grab_real_batch(x_train,40).reshape(40,64,64,1),epoch=-1)"
      ],
      "metadata": {
        "id": "D5DrhO2nJuxB"
      },
      "execution_count": 49,
      "outputs": []
    },
    {
      "cell_type": "code",
      "source": [
        "train(d_model,g_model, GAN_model,x_train, verbose=0)"
      ],
      "metadata": {
        "colab": {
          "base_uri": "https://localhost:8080/"
        },
        "id": "Uv112L5qKtDN",
        "outputId": "e45534f9-7c20-4239-b55d-abb4bc238cfd"
      },
      "execution_count": 53,
      "outputs": [
        {
          "output_type": "stream",
          "name": "stdout",
          "text": [
            "Epoch:  0\n",
            "Epoch:  1\n",
            "Epoch:  2\n",
            "Epoch:  3\n",
            "Epoch:  4\n",
            "Epoch:  5\n",
            "Epoch:  6\n",
            "Epoch:  7\n",
            "Epoch:  8\n",
            "Epoch:  9\n",
            "Epoch:  10\n",
            "Epoch:  11\n",
            "Epoch:  12\n",
            "Epoch:  13\n",
            "Epoch:  14\n",
            "Epoch:  15\n",
            "Epoch:  16\n",
            "Epoch:  17\n",
            "Epoch:  18\n",
            "Epoch:  19\n",
            "Epoch:  20\n",
            "Epoch:  21\n",
            "Epoch:  22\n",
            "Epoch:  23\n",
            "Epoch:  24\n",
            "Epoch:  25\n",
            "Epoch:  26\n",
            "Epoch:  27\n",
            "Epoch:  28\n",
            "Epoch:  29\n",
            "Epoch:  30\n",
            "Epoch:  31\n",
            "Epoch:  32\n",
            "Epoch:  33\n",
            "Epoch:  34\n",
            "Epoch:  35\n",
            "Epoch:  36\n",
            "Epoch:  37\n",
            "Epoch:  38\n",
            "Epoch:  39\n",
            "Epoch:  40\n",
            "Epoch:  41\n",
            "Epoch:  42\n",
            "Epoch:  43\n",
            "Epoch:  44\n",
            "Epoch:  45\n",
            "Epoch:  46\n",
            "Epoch:  47\n",
            "Epoch:  48\n",
            "Epoch:  49\n",
            "Epoch:  50\n",
            "Epoch:  51\n",
            "Epoch:  52\n",
            "Epoch:  53\n",
            "Epoch:  54\n",
            "Epoch:  55\n",
            "Epoch:  56\n",
            "Epoch:  57\n",
            "Epoch:  58\n",
            "Epoch:  59\n",
            "Epoch:  60\n",
            "Epoch:  61\n",
            "Epoch:  62\n",
            "Epoch:  63\n",
            "Epoch:  64\n",
            "Epoch:  65\n",
            "Epoch:  66\n",
            "Epoch:  67\n",
            "Epoch:  68\n",
            "Epoch:  69\n",
            "Epoch:  70\n",
            "Epoch:  71\n",
            "Epoch:  72\n",
            "Epoch:  73\n",
            "Epoch:  74\n",
            "Epoch:  75\n",
            "Epoch:  76\n",
            "Epoch:  77\n",
            "Epoch:  78\n",
            "Epoch:  79\n",
            "Epoch:  80\n",
            "Epoch:  81\n",
            "Epoch:  82\n",
            "Epoch:  83\n",
            "Epoch:  84\n",
            "Epoch:  85\n",
            "Epoch:  86\n",
            "Epoch:  87\n",
            "Epoch:  88\n",
            "Epoch:  89\n",
            "Epoch:  90\n",
            "Epoch:  91\n",
            "Epoch:  92\n",
            "Epoch:  93\n",
            "Epoch:  94\n",
            "Epoch:  95\n",
            "Epoch:  96\n",
            "Epoch:  97\n",
            "Epoch:  98\n",
            "Epoch:  99\n",
            "Epoch:  100\n",
            "Epoch:  101\n",
            "Epoch:  102\n",
            "Epoch:  103\n",
            "Epoch:  104\n",
            "Epoch:  105\n",
            "Epoch:  106\n",
            "Epoch:  107\n",
            "Epoch:  108\n",
            "Epoch:  109\n",
            "Epoch:  110\n",
            "Epoch:  111\n",
            "Epoch:  112\n",
            "Epoch:  113\n",
            "Epoch:  114\n",
            "Epoch:  115\n",
            "Epoch:  116\n",
            "Epoch:  117\n",
            "Epoch:  118\n",
            "Epoch:  119\n",
            "Epoch:  120\n",
            "Epoch:  121\n",
            "Epoch:  122\n",
            "Epoch:  123\n",
            "Epoch:  124\n",
            "Epoch:  125\n",
            "Epoch:  126\n",
            "Epoch:  127\n",
            "Epoch:  128\n",
            "Epoch:  129\n",
            "Epoch:  130\n",
            "Epoch:  131\n",
            "Epoch:  132\n",
            "Epoch:  133\n",
            "Epoch:  134\n",
            "Epoch:  135\n",
            "Epoch:  136\n",
            "Epoch:  137\n",
            "Epoch:  138\n",
            "Epoch:  139\n",
            "Epoch:  140\n",
            "Epoch:  141\n",
            "Epoch:  142\n",
            "Epoch:  143\n",
            "Epoch:  144\n",
            "Epoch:  145\n",
            "Epoch:  146\n",
            "Epoch:  147\n",
            "Epoch:  148\n",
            "Epoch:  149\n",
            "Epoch:  150\n",
            "Epoch:  151\n",
            "Epoch:  152\n",
            "Epoch:  153\n",
            "Epoch:  154\n",
            "Epoch:  155\n",
            "Epoch:  156\n",
            "Epoch:  157\n",
            "Epoch:  158\n",
            "Epoch:  159\n",
            "Epoch:  160\n",
            "Epoch:  161\n",
            "Epoch:  162\n",
            "Epoch:  163\n",
            "Epoch:  164\n",
            "Epoch:  165\n",
            "Epoch:  166\n",
            "Epoch:  167\n",
            "Epoch:  168\n",
            "Epoch:  169\n",
            "Epoch:  170\n",
            "Epoch:  171\n",
            "Epoch:  172\n",
            "Epoch:  173\n",
            "Epoch:  174\n",
            "Epoch:  175\n",
            "Epoch:  176\n",
            "Epoch:  177\n",
            "Epoch:  178\n",
            "Epoch:  179\n",
            "Epoch:  180\n",
            "Epoch:  181\n",
            "Epoch:  182\n",
            "Epoch:  183\n",
            "Epoch:  184\n",
            "Epoch:  185\n",
            "Epoch:  186\n",
            "Epoch:  187\n",
            "Epoch:  188\n",
            "Epoch:  189\n",
            "Epoch:  190\n",
            "Epoch:  191\n",
            "Epoch:  192\n",
            "Epoch:  193\n",
            "Epoch:  194\n",
            "Epoch:  195\n",
            "Epoch:  196\n",
            "Epoch:  197\n",
            "Epoch:  198\n",
            "Epoch:  199\n"
          ]
        }
      ]
    },
    {
      "cell_type": "code",
      "source": [
        "results = grab_fake_batch(g_model,5)\n",
        "plt.imshow(results[0].reshape(64,64), cmap=\"gray\")"
      ],
      "metadata": {
        "colab": {
          "base_uri": "https://localhost:8080/",
          "height": 285
        },
        "id": "EOYSyJe5Jx1s",
        "outputId": "6dd78f00-32dd-4903-a450-5ea2eb34a911"
      },
      "execution_count": 64,
      "outputs": [
        {
          "output_type": "execute_result",
          "data": {
            "text/plain": [
              "<matplotlib.image.AxesImage at 0x7f5d24def9d0>"
            ]
          },
          "metadata": {},
          "execution_count": 64
        },
        {
          "output_type": "display_data",
          "data": {
            "text/plain": [
              "<Figure size 432x288 with 1 Axes>"
            ],
            "image/png": "[encoded data removed]"
          },
          "metadata": {
            "needs_background": "light"
          }
        }
      ]
    },
    {
      "cell_type": "code",
      "source": [
        "results = grab_real_batch(x_train,5)\n",
        "plt.imshow(results[0].reshape(64,64), cmap=\"gray\")"
      ],
      "metadata": {
        "colab": {
          "base_uri": "https://localhost:8080/",
          "height": 285
        },
        "id": "ulI-ech7J2aj",
        "outputId": "bf2e1904-fab8-4444-dce8-b57c0ec1043c"
      },
      "execution_count": 55,
      "outputs": [
        {
          "output_type": "execute_result",
          "data": {
            "text/plain": [
              "<matplotlib.image.AxesImage at 0x7f5d24dd5340>"
            ]
          },
          "metadata": {},
          "execution_count": 55
        },
        {
          "output_type": "display_data",
          "data": {
            "text/plain": [
              "<Figure size 432x288 with 1 Axes>"
            ],
            "image/png": "[encoded data removed]"
          },
          "metadata": {
            "needs_background": "light"
          }
        }
      ]
    },
    {
      "cell_type": "code",
      "source": [
        "g_model.save(\"olivetti_g_model_v2.h5\")"
      ],
      "metadata": {
        "colab": {
          "base_uri": "https://localhost:8080/"
        },
        "id": "Schy8ZNdLL_R",
        "outputId": "d97143aa-ff1b-48cd-f373-272a0176a559"
      },
      "execution_count": 56,
      "outputs": [
        {
          "output_type": "stream",
          "name": "stderr",
          "text": [
            "WARNING:tensorflow:Compiled the loaded model, but the compiled metrics have yet to be built. `model.compile_metrics` will be empty until you train or evaluate the model.\n"
          ]
        }
      ]
    }
  ]
}